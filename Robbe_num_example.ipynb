{
 "cells": [
  {
   "cell_type": "markdown",
   "metadata": {},
   "source": [
    "# 0. Depedencies"
   ]
  },
  {
   "cell_type": "code",
   "execution_count": null,
   "metadata": {},
   "outputs": [],
   "source": [
    "import numpy as np\n",
    "from scipy.optimize import minimize\n",
    "import plotly.graph_objects as go \n",
    "import plotly.express as px #for colors\n",
    "from datetime import datetime\n",
    "import datetime\n",
    "import pandas as pd\n",
    "import logging\n",
    "from entsoe import EntsoePandasClient\n"
   ]
  },
  {
   "cell_type": "code",
   "execution_count": null,
   "metadata": {},
   "outputs": [],
   "source": [
    "light_green = '#228A83'\n",
    "dark_green = '#2E5651'\n",
    "blue = '#002060'\n",
    "brown = '#7A5F3F'"
   ]
  },
  {
   "cell_type": "markdown",
   "metadata": {},
   "source": [
    "# 1. Data"
   ]
  },
  {
   "cell_type": "markdown",
   "metadata": {},
   "source": [
    "## Production and consumption data"
   ]
  },
  {
   "cell_type": "markdown",
   "metadata": {},
   "source": [
    "Watt-hour (Wh) is a measure of energy, not the average instantaneous power. It represents the total amount of energy consumed or produced over a period of time."
   ]
  },
  {
   "cell_type": "code",
   "execution_count": null,
   "metadata": {},
   "outputs": [],
   "source": [
    "# Convert the 5-minute watt values to watt-hours!!\n",
    "# df['consumption'] = df['consumption'] * (5 / 60)\n",
    "# df['production'] = df['production'] * (5 / 60)\n",
    "# Now you can sum this up (could also have taken average I think) diviser par 20"
   ]
  },
  {
   "cell_type": "code",
   "execution_count": null,
   "metadata": {},
   "outputs": [],
   "source": [
    "import pandas as pd\n",
    "import matplotlib.pyplot as plt\n",
    "\n",
    "# Load the data\n",
    "df = pd.read_csv('data/robbe.csv')\n",
    "\n",
    "# Ensure the 'time' column is datetime and create a 'date' column\n",
    "df['time'] = pd.to_datetime(df['time'])\n",
    "df['date'] = df['time'].dt.date\n",
    "\n",
    "# Group by date and sum the production and consumption values for each day\n",
    "df_daily = df.groupby('date').agg({'production': 'sum', 'consumption': 'sum'}).reset_index()\n",
    "\n",
    "# Plot total production and consumption per day\n",
    "plt.figure(figsize=(12, 6))\n",
    "plt.plot(df_daily['date'], df_daily['production'], label='Total Production')\n",
    "plt.plot(df_daily['date'], df_daily['consumption'], label='Total Consumption')\n",
    "plt.xlabel('Date')\n",
    "plt.ylabel('Total Power (Wh)')\n",
    "plt.title('Total Production and Consumption per Day')\n",
    "plt.legend()\n",
    "plt.grid(True)\n",
    "plt.xticks(rotation=45)\n",
    "plt.show()\n"
   ]
  },
  {
   "cell_type": "code",
   "execution_count": null,
   "metadata": {},
   "outputs": [],
   "source": [
    "# date_to_tune = '2023-03-09'\n",
    "date_to_tune = '2023-05-21'\n",
    "\n",
    "#make it datetime\n",
    "date_to_tune_datetime = pd.to_datetime(date_to_tune)"
   ]
  },
  {
   "cell_type": "code",
   "execution_count": null,
   "metadata": {},
   "outputs": [],
   "source": [
    "df = pd.read_csv('data/robbe.csv')\n",
    "# in Watt!!!\n",
    "df['date'] = pd.to_datetime(df['time']).dt.date\n",
    "df['date'] = pd.to_datetime(df['date'])\n",
    "df = df[df['date'] == date_to_tune] #change here date, less production\n",
    "df = df.drop(columns=['date'])\n",
    "df = df.reset_index(drop=True)\n",
    "\n",
    "df['time'] = pd.to_datetime(df['time']).dt.hour\n",
    "df = df.groupby(['time']).mean().reset_index() #mean so it is fine\n",
    "df = df.set_index('time')\n",
    "#df is still in Watt\n",
    "\n",
    "production = df['production'].values # in W\n",
    "consumption = df['consumption'].values  # in W\n",
    "\n",
    "production_kW = production/1000\n",
    "consumption_kW = consumption/1000\n",
    "#print total prod and cons\n",
    "total_prod_kW = np.sum(production_kW)\n",
    "total_cons_kW = np.sum(consumption_kW)\n",
    "print('Total production: ', total_prod_kW)\n",
    "print('Total consumption: ', total_cons_kW)\n",
    "#similar prod anc consumption, explain not always like this"
   ]
  },
  {
   "cell_type": "markdown",
   "metadata": {},
   "source": [
    "## Price data"
   ]
  },
  {
   "cell_type": "code",
   "execution_count": null,
   "metadata": {},
   "outputs": [],
   "source": [
    "date_to_tune_datetime"
   ]
  },
  {
   "cell_type": "code",
   "execution_count": null,
   "metadata": {},
   "outputs": [],
   "source": [
    "# Replace with your actual API key\n",
    "entsoe_api_key = 'eaccd9d9-2a8e-42b0-9257-2aa47096934e'\n",
    "\n",
    "class DayAheadPrices:\n",
    "    def __init__(self):\n",
    "        self.client = EntsoePandasClient(api_key=entsoe_api_key)\n",
    "\n",
    "    def fetch_and_print_day_ahead_prices(self, country_code='BE'):\n",
    "        \"\"\"Fetches and prints the day ahead prices for Belgium.\"\"\"\n",
    "        # Set the date range for today\n",
    "        timezone = 'Europe/Brussels'\n",
    "\n",
    "        desired_date = date_to_tune_datetime\n",
    "\n",
    "        # Set date_start to the beginning of the desired date\n",
    "        date_start = pd.Timestamp(datetime.datetime(desired_date.year, desired_date.month, desired_date.day, 0, 0, 0), tz=timezone)\n",
    "\n",
    "        # Set date_end to the end of the desired date\n",
    "        date_end = pd.Timestamp(datetime.datetime(desired_date.year, desired_date.month, desired_date.day, 23, 59, 59), tz=timezone)\n",
    "\n",
    "        # date_start = pd.Timestamp(datetime.date.today() - datetime.timedelta(days=2), tz=timezone)\n",
    "        # date_end = pd.Timestamp(datetime.date.today() - datetime.timedelta(days=1), tz=timezone)\n",
    "\n",
    "        logging.info(f'Fetching day ahead prices from ENTSO-E for {country_code}: {date_start} to {date_end}')\n",
    "        \n",
    "        # Fetch day ahead prices\n",
    "        try:\n",
    "            day_ahead_prices = self.client.query_day_ahead_prices(country_code=country_code, start=date_start, end=date_end) #cannot pass it like this resolution=['15T'] and also no quantities\n",
    "            print(\"Day Ahead Prices (€/MWh):\")\n",
    "            print(day_ahead_prices)\n",
    "        except Exception as e:\n",
    "            print(f\"An error occurred while fetching data: {e}\")\n",
    "\n",
    "        return day_ahead_prices\n",
    "\n",
    "if __name__ == \"__main__\":\n",
    "    logging.basicConfig(level=logging.INFO)\n",
    "    day_ahead_prices = DayAheadPrices()\n",
    "    prices = day_ahead_prices.fetch_and_print_day_ahead_prices()\n"
   ]
  },
  {
   "cell_type": "code",
   "execution_count": null,
   "metadata": {},
   "outputs": [],
   "source": [
    "prices = prices.values"
   ]
  },
  {
   "cell_type": "code",
   "execution_count": null,
   "metadata": {},
   "outputs": [],
   "source": [
    "prices_MWh = prices\n",
    "prices_kWh = prices_MWh / 1000\n",
    "prices_Wh = prices_kWh / 1000"
   ]
  },
  {
   "cell_type": "code",
   "execution_count": null,
   "metadata": {},
   "outputs": [],
   "source": [
    "# prices_kWh = np.load('data/prices_robbe.npy') \n",
    "prices = prices_kWh #for the moment\n",
    "consumption = consumption_kW\n",
    "production = production_kW"
   ]
  },
  {
   "cell_type": "code",
   "execution_count": null,
   "metadata": {},
   "outputs": [],
   "source": [
    "# for mismatching\n",
    "original_prices = prices.copy()\n",
    "original_production = production.copy()\n",
    "original_consumption = consumption.copy()"
   ]
  },
  {
   "cell_type": "markdown",
   "metadata": {},
   "source": [
    "# 2. MPC"
   ]
  },
  {
   "cell_type": "markdown",
   "metadata": {},
   "source": [
    "## 2.1 Helpers"
   ]
  },
  {
   "cell_type": "code",
   "execution_count": null,
   "metadata": {},
   "outputs": [],
   "source": [
    "# Utility functions defined outside the class\n",
    "def total(price, volume):\n",
    "    return price * volume\n",
    "\n",
    "#for mismatching\n",
    "def generate_profiles(time_segments, probability): #add pprobab as param\n",
    "        # np.random.seed(42)\n",
    "\n",
    "        if np.random.rand() > probability:  # 90% of the time, add this as a parameter later\n",
    "                profile = np.full(time_segments, 1 / time_segments)  # Uniformly distributed\n",
    "        else:\n",
    "            random_values = np.random.uniform(0, 1, time_segments)\n",
    "            random_values /= random_values.sum()  # Ensure sum is 1\n",
    "            profile = np.round(random_values, decimals=1)  # Rounded to one decimal\n",
    "\n",
    "        return profile"
   ]
  },
  {
   "cell_type": "code",
   "execution_count": null,
   "metadata": {},
   "outputs": [],
   "source": [
    "def mean_flatten_list(list_of_lists):\n",
    "    flattened_list = [item if isinstance(sublist, list) else sublist for sublist in list_of_lists for item in (sublist if isinstance(sublist, list) else [sublist])]\n",
    "    #make numpy array\n",
    "    flattened_list = np.array(flattened_list)\n",
    "    #mean of list\n",
    "    mean_list = np.mean(flattened_list)\n",
    "    return round(mean_list,2)"
   ]
  },
  {
   "cell_type": "markdown",
   "metadata": {},
   "source": [
    "## 2.2 Class EMS problem"
   ]
  },
  {
   "cell_type": "code",
   "execution_count": null,
   "metadata": {},
   "outputs": [],
   "source": [
    "class OptimizationProblem: #energy setup\n",
    "\n",
    "    def __init__(self, soc_initial, electricity_prices, pv_production, consumption, N, horizon, max_capacity, max_charge_rate, grid_price_ratio, time_segments, method, options, num_guesses, probs_mismatch, accuracy_forecast, mismatching_occurence):\n",
    "        \n",
    "        self.soc_initial = soc_initial\n",
    "        self.H = horizon\n",
    "        self.N = N #not bigger than one here\n",
    "\n",
    "        self.electricity_prices = electricity_prices\n",
    "        self.pv_production = pv_production #first in object creation\n",
    "        self.consumption = consumption\n",
    "\n",
    "        self.max_capacity = max_capacity\n",
    "        self.max_charge_rate = max_charge_rate\n",
    "        self.max_discharge_rate = -max_charge_rate\n",
    "        self.efficiency_battery = 1\n",
    "\n",
    "        self.time_segments = time_segments\n",
    "        self.probs_mismatch = probs_mismatch\n",
    "        self.grid_price_ratio = grid_price_ratio\n",
    "        self.accuracy_forecast = accuracy_forecast\n",
    "        self.mismatching_occurence = mismatching_occurence\n",
    "\n",
    "        self.method = method\n",
    "        self.options = options\n",
    "        self.num_guesses = num_guesses\n",
    "\n",
    "        #-------------------\n",
    "\n",
    "        self.true_charging_actions = None  # To store the \"true\" charging actions\n",
    "        self.soc_list = None  # To store the state of charge over time\n",
    "        self.grid_list = None  # To store the net grid interaction over time\n",
    "\n",
    "        #for looping over best guesses\n",
    "        self.best_actions = None\n",
    "        self.best_soc = None\n",
    "        self.best_grid = None\n",
    "        self.best_fake_actions = None\n",
    "\n",
    "        self.evaluations = [] #for guesses convergence\n",
    "\n",
    "    def get_bounds(self):\n",
    "        # bounds based on max_charge_rate and max_discharge_rate\n",
    "        return [(self.max_discharge_rate * self.N, self.max_charge_rate * self.N) for _ in range(self.H)]\n",
    "   \n",
    "\n",
    "    def initial_guesses(self): #smart guesses!!\n",
    "        current_soc = self.soc_initial\n",
    "        if self.num_guesses == 1:\n",
    "            # One guess: neutral middle-ground, rounded to two decimals.\n",
    "            return [np.round(np.zeros(self.H), 2)]\n",
    "        else:\n",
    "            guesses = []\n",
    "            for _ in range(self.num_guesses):\n",
    "                guess = np.zeros(self.H)\n",
    "                for t in range(self.H):\n",
    "                    # Randomly decide between discrete choices and a continuous range selection.\n",
    "                    if np.random.rand() < 0.25:\n",
    "                        # 20% chance to select any value in the range.\n",
    "                        action = np.random.uniform(self.max_discharge_rate * self.N, self.max_charge_rate * self.N)\n",
    "                    else:\n",
    "                        # 80% chance to favor extremes and zero.\n",
    "                        if current_soc == 0:\n",
    "                            # Can only charge_rate.\n",
    "                            action = np.random.choice([0, self.max_charge_rate * self.N], p=[0.2, 0.8])\n",
    "                        elif current_soc == self.max_capacity:\n",
    "                            # Can only discharge_rate.\n",
    "                            action = np.random.choice([0, self.max_discharge_rate * self.N], p=[0.2, 0.8])\n",
    "                        else:\n",
    "                            # Can charge_rate or discharge_rate; favor extremes and zero.\n",
    "                            action = np.random.choice([0, self.max_charge_rate * self.N, self.max_discharge_rate * self.N], p=[0.4, 0.3, 0.3])\n",
    "\n",
    "                    # Round the action to two decimals.\n",
    "                    action = np.round(action, 2)\n",
    "                    \n",
    "                    # Apply action to the current state of charge_rate, ensuring it remains within bounds.\n",
    "                    current_soc = np.clip(current_soc + action, 0, self.max_capacity)\n",
    "                    guess[t] = action\n",
    "                    \n",
    "                    # Optionally, enforce more realistic sequences (e.g., discharge_rate after charging).\n",
    "                    if t > 0 and guess[t-1] > 0 and action > 0:\n",
    "                        # If previously charging, introduce a higher chance to switch to discharging or neutral.\n",
    "                        if np.random.rand() < 0.3:\n",
    "                            guess[t] = np.random.choice([0, self.max_discharge_rate * self.N], p=[0.5, 0.5])\n",
    "                            guess[t] = np.round(guess[t], 2)\n",
    "\n",
    "                    elif t > 0 and guess[t-1] < 0 and action < 0:\n",
    "                        # If previously discharging, introduce a higher chance to switch to charging or neutral.\n",
    "                        if np.random.rand() < 0.3:\n",
    "                            guess[t] = np.random.choice([0, self.max_charge_rate * self.N], p=[0.5, 0.5])\n",
    "                            guess[t] = np.round(guess[t], 2)\n",
    "\n",
    "                    # probability is set to 0.3 in both cases\n",
    "                    \n",
    "                    current_soc = np.clip(current_soc + guess[t] - action, 0, self.max_capacity)\n",
    "                \n",
    "                guesses.append(guess)\n",
    "            \n",
    "            print('the length of the guesses', len(guesses))\n",
    "            print('these are the guesses', guesses)\n",
    "            \n",
    "            return guesses\n",
    "        \n",
    "    def cost_function(self, proposed_charging_actions):\n",
    "        soc = self.soc_initial\n",
    "        charging_cost = 0\n",
    "        soc_list = [soc]  # Initialize SOC list with initial SOC\n",
    "        charging_action_list = []\n",
    "        net_grid = []\n",
    "\n",
    "        #constraint 2   \n",
    "\n",
    "        for i in range(self.H): #at each timestep\n",
    "\n",
    "            #a) action -------------------------------------\n",
    "            if proposed_charging_actions[i] > 0:  \n",
    "                charging_action = min(proposed_charging_actions[i], (1 - soc) * self.max_capacity) \n",
    "                #proposed action is already bounded via self.N\n",
    "            elif proposed_charging_actions[i] < 0: \n",
    "                charging_action = max(proposed_charging_actions[i], -soc * self.max_capacity) #maximum of two negative values. Quesrion: can I send signal to battery to discharge more?\n",
    "            else:  \n",
    "                charging_action = 0\n",
    "            \n",
    "            #b) state of charge -------------------------------------\n",
    "            if charging_action > 0:\n",
    "                real_action = charging_action * self.efficiency_battery \n",
    "                soc += real_action / self.max_capacity\n",
    "            elif charging_action < 0:  # When you ask a battery to discharge a certain power, taking into account its efficiency, it needs to discharge more than requested to ensure the desired output is met due to efficiency losses\n",
    "                real_action = charging_action / self.efficiency_battery\n",
    "                soc += real_action / self.max_capacity\n",
    "            else:\n",
    "                real_action = 0\n",
    "            \n",
    "            #c) net grid -------------------------------------\n",
    "            # constraint 1\n",
    "                \n",
    "            # grid = self.consumption[i] - self.pv_production[i] + (real_action * self.H)/1000 #to put in kWh\n",
    "            grid = self.consumption[i] - self.pv_production[i] + real_action #to put in kWh\n",
    "\n",
    "\n",
    "            if grid > 0:\n",
    "                charging_cost += grid * self.electricity_prices[i]\n",
    "            elif grid < 0:\n",
    "                charging_cost += grid * self.grid_price_ratio * self.electricity_prices[i]\n",
    "            else:\n",
    "                pass\n",
    "\n",
    "            if self.N < 1:\n",
    "                charging_cost = charging_cost * self.N #because price is per hour eur/kWh\n",
    "\n",
    "            # append to lists\n",
    "            soc_list.append(round(soc,2))\n",
    "            charging_action_list.append(round(real_action, 2))\n",
    "            net_grid.append(round(grid,2))\n",
    "\n",
    "        #only useful when efficiency...\n",
    "        self.true_charging_actions = charging_action_list \n",
    "        self.soc_list = soc_list\n",
    "\n",
    "        #interesting\n",
    "        self.grid_list = net_grid\n",
    "        self.evaluations.append((charging_cost))\n",
    "\n",
    "        print('cost', charging_cost)\n",
    "\n",
    "        return charging_cost\n",
    "        # Return the total charging cost as the optimization objective (only one variable allowed)\n",
    "    \n",
    "\n",
    "    def apply_mismatch_and_update_soc(self, prod_amount, cons_amount, proposed_action, soc_init): #not needed to be in class I think, but better for params\n",
    "        #for one action each time \n",
    "            \n",
    "        if self.probs_mismatch == 0: #no mismatching\n",
    "            net_grid = cons_amount - prod_amount + proposed_action\n",
    "            soc_init = soc_init + proposed_action / self.max_capacity\n",
    "            return soc_init, net_grid, proposed_action\n",
    "\n",
    "        else:\n",
    "            soc = soc_init #not same as self.soc_initial\n",
    "            net_grid_segment = 0\n",
    "            from_grid = 0\n",
    "            to_grid = 0\n",
    "            total_grid = []\n",
    "            actions_segment_list = []\n",
    "\n",
    "            # Generate mismatch profiles\n",
    "            if self.mismatching_occurence == 0: \n",
    "                prod_mismatch_profile = generate_profiles(self.time_segments, self.probs_mismatch)\n",
    "                cons_mismatch_profile = generate_profiles(self.time_segments, self.probs_mismatch)\n",
    "            elif self.mismatching_occurence == 1:\n",
    "                prod_mismatch_profile = generate_profiles(self.time_segments, self.probs_mismatch)\n",
    "                cons_mismatch_profile = np.full(self.time_segments, 0)\n",
    "            else: #self.mismatching_occurence == 2\n",
    "                prod_mismatch_profile = np.full(self.time_segments, 0)\n",
    "                cons_mismatch_profile = generate_profiles(self.time_segments, self.probs_mismatch)\n",
    "\n",
    "            soc_list = []\n",
    "            # Iterate through each time segment\n",
    "            for i in range(self.time_segments):\n",
    "                # print(f'this is the {i}th iteration')\n",
    "                segment_prod = prod_amount * prod_mismatch_profile[i]\n",
    "                segment_cons = cons_amount * cons_mismatch_profile[i]\n",
    "\n",
    "                if proposed_action > 0:  #proposed action already bounded\n",
    "                    action_for_segment = min(proposed_action * prod_mismatch_profile[i], self.max_charge_rate * self.N/self.time_segments) #rmber self.N = 1 if N >= 1\n",
    "                    soc += action_for_segment / self.max_capacity\n",
    "                    soc_list.append(soc)\n",
    "\n",
    "                else:  \n",
    "                    action_for_segment = max(proposed_action * cons_mismatch_profile[i], self.max_discharge_rate * self.N/self.time_segments) #same comments, max of two negative numbers\n",
    "                    soc += action_for_segment / self.max_capacity\n",
    "                    soc_list.append(soc)\n",
    "                \n",
    "                # Update net grid exchange\n",
    "                net_grid_segment = segment_cons - segment_prod + action_for_segment\n",
    "\n",
    "                if net_grid_segment > 0:\n",
    "                    from_grid += net_grid_segment\n",
    "                else:\n",
    "                    to_grid += net_grid_segment\n",
    "\n",
    "                actions_segment_list.append(action_for_segment)\n",
    "        \n",
    "                # soc = max(0, min(soc, 1)) * 100 #not needed normally\n",
    "\n",
    "                #prints\n",
    "                # print(f'new soc at end segment {round(soc * 100, 2)} % , action in segment: {round(action_for_segment,2)}, segment cons: {round(segment_cons,2)}, segment prod: {round(segment_prod,2)}, net grid: {round(net_grid_segment,2)}')\n",
    "            \n",
    "            total_grid = [from_grid, to_grid]\n",
    "\n",
    "            return soc_list, total_grid, actions_segment_list\n",
    "    \n",
    "\n",
    "    #-------------------------- # not a lot different from cost function\n",
    "\n",
    "    def basic_ruler(self):\n",
    "        soc = self.soc_initial\n",
    "        charging_cost = 0\n",
    "        soc_list = [soc]  # does not impact\n",
    "        charging_action_list = []\n",
    "        net_grid = []\n",
    "        buying_cost = []\n",
    "        selling_cost = []\n",
    "        mean_price = np.mean(self.electricity_prices)\n",
    "\n",
    "        #constraint 2\n",
    "        for i in range(len(self.consumption)): #at each timestep, nothing to do with horizon bcs kijkt niet op voorhand, mismatching is per action donc blc\n",
    "\n",
    "            #a) action lined to price\n",
    "            # -------------------------------------\n",
    "            if self.electricity_prices[i] < mean_price:  # here self.N because not bounded\n",
    "\n",
    "                # charging_action = min(self.max_charge_rate * self.N, (1 - soc) * self.max_capacity)\n",
    "                charging_action = min(self.max_charge_rate, (1 - soc) * self.max_capacity) #without self.N because biased...\n",
    "\n",
    "            \n",
    "            elif self.electricity_prices[i] >= mean_price:\n",
    "\n",
    "                # charging_action = max(self.max_discharge_rate * self.N, -soc * self.max_capacity)\n",
    "                charging_action = max(self.max_discharge_rate, -soc * self.max_capacity)\n",
    "\n",
    "            else:  \n",
    "                charging_action = 0\n",
    "            \n",
    "            #b) state of charge\n",
    "            # -------------------------------------\n",
    "            if charging_action > 0:\n",
    "                real_action = charging_action * self.efficiency_battery \n",
    "                soc += real_action / self.max_capacity\n",
    "\n",
    "            elif charging_action < 0:  # When you ask a battery to discharge a certain power, taking into account its efficiency, it needs to discharge more than requested to ensure the desired output is met due to efficiency losses\n",
    "                real_action = charging_action / self.efficiency_battery\n",
    "                soc += real_action / self.max_capacity\n",
    "            else:\n",
    "                real_action = 0\n",
    "            \n",
    "            #c) net grid\n",
    "            # -------------------------------------\n",
    "            # constraint 1\n",
    "            grid = self.consumption[i] - self.pv_production[i] + real_action\n",
    "\n",
    "            #chargig_cost is aggregate, later use ut to calculate buying and selling\n",
    "            if grid > 0:\n",
    "                charging_cost += grid * self.electricity_prices[i]\n",
    "                buying_cost.append(charging_cost)\n",
    "            elif grid < 0:\n",
    "                charging_cost += grid * self.grid_price_ratio * self.electricity_prices[i]\n",
    "                selling_cost.append(charging_cost)\n",
    "            else:\n",
    "                pass\n",
    "\n",
    "            # append to lists, if interested\n",
    "            soc_list.append(round(soc,2))\n",
    "            charging_action_list.append(round(real_action, 2))\n",
    "            net_grid.append(round(grid,2))\n",
    "        \n",
    "        if self.N < 1:\n",
    "                charging_cost = charging_cost * self.N\n",
    "\n",
    "\n",
    "        sum_buying = np.sum(buying_cost)\n",
    "        sum_selling = np.sum(selling_cost)\n",
    "        print(f'this is the total buying {sum_buying}')\n",
    "        print(f'this is the total selling {sum_selling}')\n",
    "\n",
    "        # #print sum of list of net grid\n",
    "        net_grid = np.array(net_grid)\n",
    "        print('basic ruler net grid sum', net_grid.sum())\n",
    "        print(f'soc_list: {soc_list}')\n",
    "        print(f'charging_action_list: {charging_action_list}')\n",
    "\n",
    "        return net_grid, charging_cost"
   ]
  },
  {
   "cell_type": "markdown",
   "metadata": {},
   "source": [
    "## 2.3 Optimisation algo at each timestep - minimise"
   ]
  },
  {
   "cell_type": "code",
   "execution_count": null,
   "metadata": {},
   "outputs": [],
   "source": [
    "def optimize_battery_operation(problem: OptimizationProblem, soc):\n",
    "    \n",
    "    initial_guesses = problem.initial_guesses()\n",
    "    # print('this are the initial guesses', initial_guesses)\n",
    "\n",
    "    bounds = problem.get_bounds() #will need to be changed later\n",
    "    best_result = None\n",
    "\n",
    "    list_nfev = [] #colled in other cell\n",
    "    all_cost_evolutions = [] #will only be used if timestep ==0\n",
    "\n",
    "    def callback(xk):\n",
    "        current_cost = problem.cost_function(xk)\n",
    "        cost_evolution.append(current_cost)\n",
    "\n",
    "    i= 0\n",
    "    for guess in initial_guesses:\n",
    "\n",
    "        problem.soc_initial = soc\n",
    "\n",
    "        cost_evolution = []\n",
    "\n",
    "        result = minimize(\n",
    "        problem.cost_function, \n",
    "        guess,  \n",
    "        method= problem.method, \n",
    "        bounds=bounds,\n",
    "        options= problem.options,\n",
    "        callback=callback\n",
    "    )\n",
    "        print('result', result, 'of guess', guess, 'number', i)\n",
    "        \n",
    "        i = i + 1\n",
    "\n",
    "        # print(f\"Best result: {round(result.fun,2)} Euro\")\n",
    "        # print(f'Number of nfev: {result.nfev}')\n",
    "        list_nfev.append(result.nfev)\n",
    "\n",
    "        # print(f'Cost evolution at guess {i}, {cost_evolution}')\n",
    "        all_cost_evolutions.append(cost_evolution)\n",
    "\n",
    "        if best_result is None or result.fun < best_result.fun:\n",
    "            best_result = result\n",
    "            problem.best_actions = problem.true_charging_actions\n",
    "\n",
    "            #below not really needed\n",
    "            problem.best_fake_actions = result.x\n",
    "            problem.best_actions = problem.true_charging_actions\n",
    "            problem.best_soc = problem.soc_list\n",
    "            problem.best_grid = problem.grid_list\n",
    "    \n",
    "    # print(f\"Best result: {round(best_result.fun,2)} Euro\")\n",
    "    \n",
    "    return list_nfev, all_cost_evolutions"
   ]
  },
  {
   "cell_type": "markdown",
   "metadata": {},
   "source": [
    "## 2.4 Cost computation"
   ]
  },
  {
   "cell_type": "code",
   "execution_count": null,
   "metadata": {},
   "outputs": [],
   "source": [
    "def cost_calculator_no_mismatching(net_grid, electricity_prices, ratio_sell_back, timestep_duration):\n",
    "    # input: net_grid, ratio_sell_back, prices\n",
    "    total_cost = 0\n",
    "    buying_cost = 0\n",
    "    selling_cost = 0\n",
    "\n",
    "    if len(net_grid) != len(electricity_prices):\n",
    "        repeat_factor = len(electricity_prices) // len(net_grid)\n",
    "        electricity_prices = np.mean(electricity_prices.reshape(-1, repeat_factor), axis=1)\n",
    "        # print(f'Length of net_grid and electricity_prices are set the same {electricity_prices}')\n",
    "        print(f'Length of net_grid and electricity_prices are set the same')\n",
    "\n",
    "\n",
    "    #teken price influences\n",
    "    for i in range(len(net_grid)):\n",
    "        # print(f'timestep------------: {i}') #printed and is correct, prices afgestemd\n",
    "        if net_grid[i] > 0:\n",
    "            # print('BUYING')\n",
    "            # print(f'net grid: {net_grid[i]}')\n",
    "            # print(f'prices {electricity_prices[i]}')\n",
    "            buying_cost += net_grid[i] * electricity_prices[i]\n",
    "            # print(f'new buying cost: {buying_cost}')\n",
    "        elif net_grid[i] < 0:\n",
    "            # print('SELLING')\n",
    "            # print(f'net grid: {net_grid[i]}')\n",
    "            # print(f'prices corrected {electricity_prices[i]* ratio_sell_back}')\n",
    "            # print(f'prices corrected {electricity_prices[i]* 0.25}')\n",
    "            selling_cost += net_grid[i] * ratio_sell_back * electricity_prices[i] #negative\n",
    "            # print(f'new selling cost: {selling_cost}')\n",
    "        else:\n",
    "            pass\n",
    "\n",
    "    if timestep_duration < 1: #see data aggregation\n",
    "        buying_cost = buying_cost * timestep_duration\n",
    "        selling_cost = selling_cost * timestep_duration\n",
    "\n",
    "    total_cost = buying_cost + selling_cost\n",
    "\n",
    "    return total_cost, buying_cost, selling_cost"
   ]
  },
  {
   "cell_type": "code",
   "execution_count": null,
   "metadata": {},
   "outputs": [],
   "source": [
    "def cost_calculator_with_mismatching(net_grid, electricity_prices, ratio_sell_back, timestep_duration):\n",
    "    # input: net_grid, ratio_sell_back, prices\n",
    "    total_cost = 0\n",
    "    buying_cost = 0\n",
    "    selling_cost = 0\n",
    "    \n",
    "    if len(net_grid) != len(electricity_prices):\n",
    "        repeat_factor = len(electricity_prices) // len(net_grid)\n",
    "        electricity_prices = np.mean(electricity_prices.reshape(-1, repeat_factor), axis=1)\n",
    "        print(f'Length of net_grid and electricity_prices are set the same {electricity_prices}')\n",
    "    \n",
    "    print('len net grid', len(net_grid))\n",
    "    print('this is net grid before', net_grid)\n",
    "    buy, sell = zip(*net_grid)\n",
    "    # print(f'buy: {buy}, sell: {sell}')\n",
    "    \n",
    "    buying_cost = np.sum(buy * electricity_prices)\n",
    "    selling_cost = np.sum(sell * electricity_prices) * ratio_sell_back\n",
    "\n",
    "    if timestep_duration < 1: #see data aggregation\n",
    "        buying_cost = buying_cost * timestep_duration\n",
    "        selling_cost = selling_cost * timestep_duration\n",
    "\n",
    "    print('buy', buying_cost)\n",
    "    print('sell', selling_cost)\n",
    "\n",
    "    total_cost = buying_cost + selling_cost #changed it, selling neg so automatically\n",
    "\n",
    "    return total_cost, buying_cost, selling_cost"
   ]
  },
  {
   "cell_type": "markdown",
   "metadata": {},
   "source": [
    "## 2.5 Forecast variability"
   ]
  },
  {
   "cell_type": "code",
   "execution_count": null,
   "metadata": {},
   "outputs": [],
   "source": [
    "def stochastically_deviate(array, deviation_range_percentage):\n",
    "    \n",
    "    # For each element, calculate a deviation percentage within the allowed range\n",
    "    deviations = np.random.uniform(-deviation_range_percentage, deviation_range_percentage, size=array.shape)\n",
    "    \n",
    "    # Apply the calculated deviations to the original array elements\n",
    "    deviated_array = array + (array * deviations)\n",
    "    \n",
    "    return deviated_array"
   ]
  },
  {
   "cell_type": "markdown",
   "metadata": {},
   "source": [
    "## 2.6 Simple heuristic "
   ]
  },
  {
   "cell_type": "code",
   "execution_count": null,
   "metadata": {},
   "outputs": [],
   "source": [
    "def simple_heuristic(prices, cons, prod, duration_timestep):\n",
    "    mean_price = np.mean(prices)\n",
    "    total_cons = np.sum(cons)\n",
    "    total_prod = np.sum(prod)\n",
    "    net_grid = total_cons - total_prod\n",
    "    total_net_grid = np.sum(net_grid)\n",
    "    cost = total_net_grid * mean_price\n",
    "    if duration_timestep < 1:\n",
    "        cost = cost * duration_timestep\n",
    "    return round(cost,2)"
   ]
  },
  {
   "cell_type": "markdown",
   "metadata": {},
   "source": [
    "# 3. Parameters\n"
   ]
  },
  {
   "cell_type": "code",
   "execution_count": null,
   "metadata": {},
   "outputs": [],
   "source": [
    "#setup\n",
    "battery_capacity = 10.2\n",
    "max_charge = 3.5\n",
    "max_discharge = -max_charge\n",
    "\n",
    "sell_back_ratio = 0.3\n",
    "forecast_certainty = 1\n",
    "\n",
    "mismatching_occurence = 0 #both\n",
    "timesteps_for_mismatching = 6 #quarter... or maybe more if\n",
    "horiz = 6 #12 hour maybe\n",
    "duration_step_in_hour = 1 #averaged for example\n",
    "\n",
    "efficiency_battery = 1\n",
    "efficiency_inverter = 1 \n",
    "soc_start = 0 #initial level\n",
    "# options = {'maxiter': 100, 'ftol': 0.001, 'disp': True, 'verbose': 2} #to be sure\n",
    "method = 'SLSQP'\n",
    "\n",
    "#to tweak\n",
    "options = {'maxiter': 800, 'ftol': 0.001} \n",
    "num_guesses = 50 #a lot\n",
    "mismatching_prob = 0 #later 0.9\n",
    "#make two variables for the last_one"
   ]
  },
  {
   "cell_type": "markdown",
   "metadata": {},
   "source": [
    "# 4. First timesep and benchmarks"
   ]
  },
  {
   "cell_type": "markdown",
   "metadata": {},
   "source": [
    "## 4.1 Full day only first timestep for graph 4"
   ]
  },
  {
   "cell_type": "code",
   "execution_count": null,
   "metadata": {},
   "outputs": [],
   "source": [
    "convergence_one_day = OptimizationProblem(soc_start, prices, production, consumption, duration_step_in_hour, 24, battery_capacity, max_charge, sell_back_ratio, timesteps_for_mismatching, method, options, 30, mismatching_prob, forecast_certainty, mismatching_occurence)\n",
    "\n",
    "#initialize variables\n",
    "# optimal_controls = []\n",
    "# soc_evolution = [soc]\n",
    "# net_grid_evolution = []\n",
    "# number_iterations_per_time_step = []\n",
    "\n",
    "horizon_copy = convergence_one_day.H\n",
    "length_copy = len(convergence_one_day.electricity_prices)\n",
    "soc = soc_start #not clean but blc\n",
    "\n",
    "\n",
    "# timestep = 0\n",
    "# for t in range(length_copy):\n",
    "#     if timestep == 0:\n",
    "\n",
    "list_nfev_guesses, iterations = optimize_battery_operation(convergence_one_day, convergence_one_day.soc_initial) #added here timestep but no needed\n",
    "\n",
    "all_days_function_evals = list_nfev_guesses\n",
    "all_days_iterations_evolution = iterations\n",
    "\n",
    "print('these are the function evaluations', all_days_function_evals)\n",
    "print('these are the iterations', all_days_iterations_evolution)\n",
    "\n",
    "# number_iterations_per_time_step.append(list_nfev_guesses)\n",
    "\n",
    "# new_soc, new_grid, new_action = convergence_one_day.apply_mismatch_and_update_soc(convergence_one_day.pv_production[0], convergence_one_day.consumption[0], convergence_one_day.best_actions[0], soc) #depends on mismatch prob\n",
    "\n",
    "# optimal_controls.append(new_action)\n",
    "# net_grid_evolution.append(new_grid)\n",
    "# soc_evolution.append(new_soc)\n",
    "\n",
    "# convergence_one_day.soc_initial = new_soc\n",
    "\n",
    "    # else: \n",
    "    #     pass\n",
    "    # timestep = timestep + 1\n",
    "\n",
    "#no cost calc but return cost"
   ]
  },
  {
   "cell_type": "markdown",
   "metadata": {},
   "source": [
    "## 4.2 Benchmarks"
   ]
  },
  {
   "cell_type": "code",
   "execution_count": null,
   "metadata": {},
   "outputs": [],
   "source": [
    "#print\n",
    "mean_price_Wh = round(np.mean(prices_Wh),2)\n",
    "net_grid = consumption - production # in Watt\n",
    "net_grid_no_pv = consumption # in Watt\n",
    "sum_net_grid = round(np.sum(net_grid), 2)\n",
    "print('mean price Wh', mean_price_Wh)\n",
    "print('net grid', net_grid)\n",
    "print('net grid no pv', net_grid_no_pv)\n",
    "print('sum net grid', sum_net_grid)\n",
    "\n",
    "#more tangible in kWh!\n"
   ]
  },
  {
   "cell_type": "markdown",
   "metadata": {},
   "source": [
    "### A. No PV, No Battery"
   ]
  },
  {
   "cell_type": "code",
   "execution_count": null,
   "metadata": {},
   "outputs": [],
   "source": [
    "# total_simple_heuristic = simple_heuristic(prices, consumption, production, duration_step_in_hour)\n",
    "# #print and round\n",
    "# print('total simple heuristic', round(total_simple_heuristic,2))"
   ]
  },
  {
   "cell_type": "code",
   "execution_count": null,
   "metadata": {},
   "outputs": [],
   "source": [
    "total_no_battery_no_pv, buy_no_battery_no_pv, sell_no_battery_no_pv = cost_calculator_no_mismatching(net_grid_no_pv, prices, sell_back_ratio, duration_step_in_hour)\n",
    "#print\n",
    "print('total no battery no pv', round(total_no_battery_no_pv,2))\n",
    "print('buy no battery no pv', round(buy_no_battery_no_pv,2))\n",
    "print('sell no battery no pv', round(sell_no_battery_no_pv,2))"
   ]
  },
  {
   "cell_type": "markdown",
   "metadata": {},
   "source": [
    "### B. No battery"
   ]
  },
  {
   "cell_type": "code",
   "execution_count": null,
   "metadata": {},
   "outputs": [],
   "source": [
    "net_grid"
   ]
  },
  {
   "cell_type": "code",
   "execution_count": null,
   "metadata": {},
   "outputs": [],
   "source": [
    "total_pv_no_battery, buy_pv_no_battery, sell_pv_no_battery = cost_calculator_no_mismatching(net_grid, prices, sell_back_ratio, duration_step_in_hour)\n",
    "#print \n",
    "print('total pv no battery', round(total_pv_no_battery,2))\n",
    "print('buying pv no battery', round(buy_pv_no_battery,2))\n",
    "print('selling pv no battery', round(sell_pv_no_battery,2))"
   ]
  },
  {
   "cell_type": "markdown",
   "metadata": {},
   "source": [
    "#### C. Basic rule based on average price"
   ]
  },
  {
   "cell_type": "code",
   "execution_count": null,
   "metadata": {},
   "outputs": [],
   "source": [
    "base_ruler = OptimizationProblem(soc_start, prices, production, consumption, duration_step_in_hour, horiz, battery_capacity, max_charge, sell_back_ratio, timesteps_for_mismatching, method, options, num_guesses, mismatching_prob, forecast_certainty, mismatching_occurence)\n",
    "net, cost = base_ruler.basic_ruler() #changed this"
   ]
  },
  {
   "cell_type": "code",
   "execution_count": null,
   "metadata": {},
   "outputs": [],
   "source": [
    "total_basic_ruler, buy_basic_ruler, sell_basic_ruler = cost_calculator_no_mismatching(net, prices, sell_back_ratio, duration_step_in_hour)\n",
    "print('total cost basic ruler', round(total_basic_ruler,2))\n",
    "print('buying cost basic ruler', round(buy_basic_ruler,2))\n",
    "print('selling cost basic ruler', round(sell_basic_ruler,2))\n",
    "\n",
    "#cost should be the same as total\n",
    "#could make a graph from it\n"
   ]
  },
  {
   "cell_type": "markdown",
   "metadata": {},
   "source": [
    "D. Overview"
   ]
  },
  {
   "cell_type": "code",
   "execution_count": null,
   "metadata": {},
   "outputs": [],
   "source": [
    "# print('total simple heuristic', round(total_simple_heuristic,2))\n",
    "#add the other\n",
    "print('-----------------------')\n",
    "print('total cost no battery', round(total_pv_no_battery,2))\n",
    "print('buying cost no battery', round(buy_pv_no_battery,2))\n",
    "print('selling cost no battery', round(sell_pv_no_battery,2))\n",
    "print('-----------------------')\n",
    "print('total cost basic ruler', round(total_basic_ruler,2))\n",
    "print('buying cost basic ruler', round(buy_basic_ruler,2))\n",
    "print('selling cost basic ruler', round(sell_basic_ruler,2))\n",
    "#addd alter MPC"
   ]
  },
  {
   "cell_type": "code",
   "execution_count": null,
   "metadata": {},
   "outputs": [],
   "source": [
    "# # genAI, avoid to load it/save it\n",
    "# data = {\n",
    "#     'time': pd.date_range(start='2023-02-26 00:00:00', end='2023-02-26 23:00:00', freq='H'),\n",
    "#     'prices': [137.69, 126.35, 120.00, 109.85, 105.93, 106.37, 107.04, 107.04, 123.12, 123.85,\n",
    "#                97.13, 92.67, 84.78, 55.13, 55.24, 84.90, 98.92, 129.90, 153.70, 156.91, \n",
    "#                153.64, 141.64, 138.29, 132.98]\n",
    "# }\n",
    "# df = pd.DataFrame(data)\n",
    "\n",
    "# # Convert the prices column to a numpy array\n",
    "# prices_MWh = df['prices'].values\n",
    "# prices_kWh = prices_MWh / 1000\n",
    "# prices_Wh = prices_kWh / 1000\n",
    "\n",
    "# # Display the numpy array\n",
    "# print(prices_kWh)"
   ]
  },
  {
   "cell_type": "markdown",
   "metadata": {},
   "source": [
    "# 5. NO MISMATCHING"
   ]
  },
  {
   "cell_type": "markdown",
   "metadata": {},
   "source": [
    "## 5.1 Code"
   ]
  },
  {
   "cell_type": "markdown",
   "metadata": {},
   "source": [
    "Here the 'rolling forward' component"
   ]
  },
  {
   "cell_type": "code",
   "execution_count": null,
   "metadata": {},
   "outputs": [],
   "source": [
    "rolling_problem = OptimizationProblem(soc, prices, production, consumption, duration_step_in_hour, horiz, battery_capacity, max_charge, sell_back_ratio, timesteps_for_mismatching, method, options, num_guesses, mismatching_prob, forecast_certainty, mismatching_occurence)\n",
    "\n",
    "#initialize variables\n",
    "optimal_controls = []\n",
    "soc_evolution = [soc] # I do not know if need to add this...?\n",
    "net_grid_evolution = []\n",
    "number_iterations_per_time_step = []\n",
    "\n",
    "horizon_copy = rolling_problem.H\n",
    "length_copy = len(rolling_problem.electricity_prices)\n",
    "\n",
    "timestep = 0\n",
    "for t in range(length_copy):\n",
    "\n",
    "    #initial 3 variables\n",
    "    rolling_problem.electricity_prices = prices[t:t+horizon_copy]\n",
    "    rolling_problem.pv_production = production[t:t+horizon_copy]\n",
    "    rolling_problem.consumption = consumption[t:t+horizon_copy]\n",
    "\n",
    "    if len(rolling_problem.electricity_prices) != horizon_copy: #at the end, assumption here\n",
    "        rolling_problem.electricity_prices = np.append(rolling_problem.electricity_prices, np.zeros(horizon_copy - len(rolling_problem.electricity_prices)))\n",
    "        rolling_problem.pv_production = np.append(rolling_problem.pv_production, np.zeros(horizon_copy - len(rolling_problem.pv_production)))\n",
    "        rolling_problem.consumption = np.append(rolling_problem.consumption, np.zeros(horizon_copy - len(rolling_problem.consumption)))\n",
    "\n",
    "    if rolling_problem.accuracy_forecast != 1:\n",
    "        deviation = 1 - rolling_problem.accuracy_forecast\n",
    "        rolling_problem.pv_production = stochastically_deviate(rolling_problem.pv_production, deviation)\n",
    "        rolling_problem.consumption = stochastically_deviate(rolling_problem.consumption, deviation)\n",
    "    \n",
    "    print('another timestep --------------', timestep)\n",
    "    list_nfev_guesses, iterations = optimize_battery_operation(rolling_problem, soc) #no need timestep  \n",
    "\n",
    "    number_iterations_per_time_step.append(list_nfev_guesses) #for all, will need fro graph 4\n",
    "    \n",
    "    new_soc, new_grid, new_action = rolling_problem.apply_mismatch_and_update_soc(rolling_problem.pv_production[0], rolling_problem.consumption[0], rolling_problem.best_actions[0], soc) #depends on mismatch prob\n",
    "\n",
    "    optimal_controls.append(new_action)\n",
    "    net_grid_evolution.append(new_grid) \n",
    "    soc_evolution.append(new_soc)\n",
    "    \n",
    "    soc = new_soc\n",
    "\n",
    "    timestep = timestep + 1 #just for printing\n",
    "\n",
    "#----------------- cost calculation\n",
    "if mismatching_prob == 0:\n",
    "    MPC_total_no_mismatching, MPC_buying_no_mismatching, MPC_selling_no_mismatching = cost_calculator_no_mismatching(net_grid_evolution, prices, sell_back_ratio, duration_step_in_hour) #could also take from class\n",
    "    avg_soc = np.mean(soc_evolution)\n",
    "else:\n",
    "    print('not possible')\n",
    "    # MPC_total, MPC_buying, MPC_selling = cost_calculator_with_mismatching(net_grid_evolution, prices, sell_back_ratio, duration_step_in_hour)\n",
    "    # avg_soc = mean_flatten_list(soc_evolution)"
   ]
  },
  {
   "cell_type": "code",
   "execution_count": null,
   "metadata": {},
   "outputs": [],
   "source": [
    "#cost, put at the end for overview\n",
    "print(\"MPC_total:\", MPC_total_no_mismatching) \n",
    "print(\"MPC_buying:\", MPC_buying_no_mismatching)\n",
    "print(\"MPC_selling:\", MPC_selling_no_mismatching)"
   ]
  },
  {
   "cell_type": "markdown",
   "metadata": {},
   "source": [
    "## 5.2 Visualisation"
   ]
  },
  {
   "cell_type": "markdown",
   "metadata": {},
   "source": [
    "### 5.2.1 Preprocessing\n",
    "\n",
    "For preprocessing add copy to last elem"
   ]
  },
  {
   "cell_type": "code",
   "execution_count": null,
   "metadata": {},
   "outputs": [],
   "source": [
    "def add_elem(array):\n",
    "    if len(array) == 24:\n",
    "        last_elem = array[-1]\n",
    "        array = list(array)  # Convert NumPy array to list\n",
    "        array.append(last_elem)\n",
    "        array = np.array(array)  # Convert list back to NumPy array\n",
    "    return array"
   ]
  },
  {
   "cell_type": "code",
   "execution_count": null,
   "metadata": {},
   "outputs": [],
   "source": [
    "prices_for_visual = prices_kWh #before adding an element"
   ]
  },
  {
   "cell_type": "code",
   "execution_count": null,
   "metadata": {},
   "outputs": [],
   "source": [
    "prices_for_visual = add_elem(prices_for_visual)\n",
    "production = add_elem(production)\n",
    "consumption = add_elem(consumption)\n",
    "#prod and cons in kWh\n",
    "production_kW = add_elem(production_kW)\n",
    "consumption_kW = add_elem(consumption_kW)\n",
    "net_grid_evolution = add_elem(net_grid_evolution)"
   ]
  },
  {
   "cell_type": "markdown",
   "metadata": {},
   "source": [
    "### Graph 1: two graphs for production, consumption, net_grid, price"
   ]
  },
  {
   "cell_type": "markdown",
   "metadata": {},
   "source": [
    "Change datum graph 1"
   ]
  },
  {
   "cell_type": "code",
   "execution_count": null,
   "metadata": {},
   "outputs": [],
   "source": [
    "net = production - consumption\n",
    "net"
   ]
  },
  {
   "cell_type": "code",
   "execution_count": null,
   "metadata": {},
   "outputs": [],
   "source": [
    "# Create a figure\n",
    "fig = go.Figure()\n",
    "\n",
    "# left y-axis\n",
    "fig.add_trace(go.Scatter(x=list(range(len(production_kW))),y=production_kW,mode='lines',name='production',line_shape='hv',line=dict(color=light_green, width=3)))\n",
    "fig.add_trace(go.Scatter(x=list(range(len(consumption_kW))), y=consumption_kW, mode='lines', name='consumption',line_shape='hv', line=dict(color=blue, width=3)))\n",
    "\n",
    "#right y-axis\n",
    "fig.add_trace(go.Scatter(x=list(range(len(prices_for_visual))), y=prices_for_visual, mode='lines', name='Prices (right axis)', line_shape='hv', yaxis='y2', line=dict(color=dark_green, width=3)))\n",
    "\n",
    "\n",
    "# Update the layout\n",
    "fig.update_layout(title='Consumption, production Robbe  and DAP 21/05/2023',\n",
    "                xaxis_title='Timesteps',\n",
    "                yaxis=dict(\n",
    "                title='Energy (kWh)'),\n",
    "                yaxis2=dict(\n",
    "                title='Price (Euro/kWh)',\n",
    "                overlaying='y',\n",
    "                side='right'),\n",
    "                legend_title='Legend',\n",
    "                legend=dict(\n",
    "                orientation='h',  # horizontal orientation\n",
    "                y=- 0.2,  # Position legend at the top (y < 1)\n",
    "                x=0.1),\n",
    "                font=dict(color=dark_green),\n",
    "                title_x=0.5\n",
    "                )\n",
    "fig.show()"
   ]
  },
  {
   "cell_type": "code",
   "execution_count": null,
   "metadata": {},
   "outputs": [],
   "source": [
    "# Create a figure\n",
    "fig = go.Figure()\n",
    "\n",
    "# left y-axis\n",
    "fig.add_trace(go.Scatter(x=list(range(len(production_kW))),y=production_kW,mode='lines',name='production',line_shape='hv',line=dict(color=light_green, width=3)))\n",
    "fig.add_trace(go.Scatter(x=list(range(len(consumption_kW))), y=consumption_kW, mode='lines', name='consumption',line_shape='hv', line=dict(color=blue, width=3)))\n",
    "\n",
    "# Update the layout\n",
    "fig.update_layout(title='Consumption and production Robbe 21/05/2023',\n",
    "                xaxis_title='Timesteps',\n",
    "                yaxis=dict(\n",
    "                title='Energy (kWh)'), #so de facctor kWh but to check\n",
    "                font=dict(color=dark_green),\n",
    "                title_x=0.5,\n",
    "                legend=dict(\n",
    "                orientation='h',  # horizontal orientation\n",
    "                y=- 0.1,  # Position legend at the top (y < 1)\n",
    "                x=0.1))  # Title font color)\n",
    "fig.show()\n",
    "\n",
    "#change title\n",
    "#legend above, units"
   ]
  },
  {
   "cell_type": "code",
   "execution_count": null,
   "metadata": {},
   "outputs": [],
   "source": [
    "# Create a figure\n",
    "fig = go.Figure()\n",
    "\n",
    "# left y-axis\n",
    "fig.add_trace(go.Scatter(x=list(range(len(net_grid_evolution))), y=net_grid_evolution, mode='lines', name='Net grid', line_shape='hv', line=dict(color=light_green, width=3)))\n",
    "#check if elec sold\n",
    "\n",
    "#right y-axis\n",
    "fig.add_trace(go.Scatter(x=list(range(len(prices_for_visual))), y=prices_for_visual, mode='lines', name='Prices (right axis)', line_shape='hv', yaxis='y2', line=dict(color=blue, width=3)))\n",
    "\n",
    "# Update the layout\n",
    "fig.update_layout(title='No mismatching: day-ahead electricity prices and net grid instantaneous power over a daily period',\n",
    "                xaxis_title='Timesteps',\n",
    "                yaxis=dict(\n",
    "                title='Instantaneous power (W)'),\n",
    "                yaxis2=dict(\n",
    "                title='Price (Euro/kWh)',\n",
    "                overlaying='y',\n",
    "                side='right'),\n",
    "                legend_title='Legend',\n",
    "                legend=dict(\n",
    "                orientation='h',  # horizontal orientation\n",
    "                y=- 0.2,  # Position legend at the top (y < 1)\n",
    "                x=0.1),\n",
    "                font=dict(color=dark_green),\n",
    "                title_x=0.5\n",
    "                )\n",
    "\n",
    "# Show the figure\n",
    "fig.show()"
   ]
  },
  {
   "cell_type": "code",
   "execution_count": null,
   "metadata": {},
   "outputs": [],
   "source": [
    "net_grid_evolution_no_mismatching_copy = net_grid_evolution"
   ]
  },
  {
   "cell_type": "markdown",
   "metadata": {},
   "source": [
    "### Graph 2: Actions & SOC battery"
   ]
  },
  {
   "cell_type": "code",
   "execution_count": null,
   "metadata": {},
   "outputs": [],
   "source": [
    "optimal_controls = add_elem(optimal_controls) #tobe sure\n",
    "soc_evolution = [x * 100 for x in soc_evolution]\n",
    "fig = go.Figure()\n",
    "\n",
    "'''NO MISMATCHING'''\n",
    "# left y-axis\n",
    "fig.add_trace(go.Scatter(x=list(range(len(optimal_controls))), y=optimal_controls, mode='lines', name='Battery actions without mismatching', line_shape='hv', line=dict(color=light_green, width=3)))\n",
    "#right y-axis\n",
    "fig.add_trace(go.Scatter(x=list(range(len(soc_evolution))), y=soc_evolution, mode='lines', name='SoC without mismatching', yaxis='y2', line=dict(color=blue, width=3))) #dark_green\n",
    "\n",
    "'''MISMATCHING''' #outcommented\n",
    "# fig.add_trace(go.Scatter(x=list(range(len(soc_evolution_with_mismatching))), y=soc_evolution_with_mismatching, mode='lines', name='SoC with mismatching (', yaxis='y2'))\n",
    "\n",
    "# Create the x and y values for the continuous line\n",
    "# x_values_continuous = []\n",
    "# y_values_continuous = []\n",
    "\n",
    "# for index, data_list in enumerate(optimal_controls_with_mismatching):\n",
    "#     x_values_continuous.extend([index + i/(timesteps_for_mismatching -1) for i in range(len(data_list))])\n",
    "#     y_values_continuous.extend(data_list)\n",
    "# fig.add_trace(go.Scatter(x=x_values_continuous, y=y_values_continuous, mode='lines+markers', name='Battery actions with mismatching'))\n",
    "\n",
    "# Update the layout\n",
    "fig.update_layout(title='No mismatching: control actions and net state of charge over a daily period',\n",
    "                xaxis_title='Timesteps',\n",
    "                yaxis=dict(\n",
    "                title='Instantaneous power (kW)'),\n",
    "                yaxis2=dict(\n",
    "                title='State of charge battery (%)',\n",
    "                overlaying='y',\n",
    "                side='right'),\n",
    "                yaxis_title='Instantaneous power (W)',\n",
    "                xaxis=dict(dtick=1),\n",
    "                legend_title='Legend',\n",
    "                legend=dict(\n",
    "                orientation='h',  # horizontal orientation\n",
    "                y=- 0.2,  # Position legend at the top (y < 1)\n",
    "                x=0),    # Center the legend horizontally )\n",
    "                font=dict(color=dark_green),\n",
    "                title_x=0.5 \n",
    "                )\n",
    "\n",
    "# Show the figure\n",
    "fig.show()"
   ]
  },
  {
   "cell_type": "markdown",
   "metadata": {},
   "source": [
    "#### Add all together to see axis instanteneous power for perspective"
   ]
  },
  {
   "cell_type": "code",
   "execution_count": null,
   "metadata": {},
   "outputs": [],
   "source": [
    "# Create a figure\n",
    "fig = go.Figure()\n",
    "\n",
    "fig.add_trace(go.Scatter(x=list(range(len(production))),y=production,mode='lines',name='production',line_shape='hv',line=dict(color=light_green, width=2, dash='dash')))\n",
    "fig.add_trace(go.Scatter(x=list(range(len(consumption))), y=consumption, mode='lines', name='consumption',line_shape='hv', line=dict(color=dark_green, width=2, dash='dash')))\n",
    "fig.add_trace(go.Scatter(x=list(range(len(net_grid_evolution))), y=net_grid_evolution, mode='lines', name='Net grid', line_shape='hv', line=dict(color=brown, width=3)))\n",
    "fig.add_trace(go.Scatter(x=list(range(len(prices_for_visual))), y=prices_for_visual, mode='lines', name='Prices (right axis)', line_shape='hv', yaxis='y2', line=dict(color=blue, width=3)))\n",
    "\n",
    "# Update the layout\n",
    "fig.update_layout(title='No mismatching: production, consumption, control actions, and net SoC over a daily period',\n",
    "                xaxis_title='Timesteps',\n",
    "                yaxis=dict(\n",
    "                title='Instantaneous power (kW)'),\n",
    "                yaxis2=dict(\n",
    "                title='Price (Euro/kWh)',\n",
    "                overlaying='y',\n",
    "                side='right'),\n",
    "                yaxis_title='Instantaneous power (W)',\n",
    "                xaxis=dict(dtick=1),\n",
    "                legend_title='Legend',\n",
    "                legend=dict(\n",
    "                orientation='h',  # horizontal orientation\n",
    "                y=- 0.2,  # Position legend at the top (y < 1)\n",
    "                x=0),    # Center the legend horizontally )\n",
    "                font=dict(color=dark_green),\n",
    "                title_x=0.5 \n",
    "                )\n",
    "\n",
    "fig.show()"
   ]
  },
  {
   "cell_type": "markdown",
   "metadata": {},
   "source": [
    "## Graph 3: convergence\n",
    "\n",
    "BLC for the moment"
   ]
  },
  {
   "cell_type": "code",
   "execution_count": null,
   "metadata": {},
   "outputs": [],
   "source": [
    "list_lengths = []\n",
    "for elem in all_days_iterations_evolution:\n",
    "    length = len(elem)\n",
    "    list_lengths.append(length)"
   ]
  },
  {
   "cell_type": "code",
   "execution_count": null,
   "metadata": {},
   "outputs": [],
   "source": [
    "all_days_lengths_iterations = [len(sublist) for sublist in all_days_iterations_evolution]"
   ]
  },
  {
   "cell_type": "code",
   "execution_count": null,
   "metadata": {},
   "outputs": [],
   "source": [
    "#25 times\n",
    "all_days_with_nfev = [25 * x for x in all_days_lengths_iterations] #changes..."
   ]
  },
  {
   "cell_type": "code",
   "execution_count": null,
   "metadata": {},
   "outputs": [],
   "source": [
    "#flatten all_days_iterations_evolution\n",
    "def flatten_list_of_lists(lst, copy_number):\n",
    "    flat_list = []\n",
    "    for sublist in lst:\n",
    "        for item in sublist:\n",
    "            for _ in range(copy_number):  \n",
    "                flat_list.append(item)\n",
    "    return flat_list\n",
    "\n",
    "flat_iterations = flatten_list_of_lists(all_days_iterations_evolution, 25)"
   ]
  },
  {
   "cell_type": "code",
   "execution_count": null,
   "metadata": {},
   "outputs": [],
   "source": [
    "def split_into_sublists(flat_list, sublist_lengths):\n",
    "    sublists = {}\n",
    "    start = 0\n",
    "    for i, length in enumerate(sublist_lengths, start=1):\n",
    "        end = start + length\n",
    "        # print(end)\n",
    "        sublists[f'guess_{i}'] = flat_list[start:end]\n",
    "        start = end\n",
    "    return sublists #dictionary\n",
    "\n",
    "original_sublists = split_into_sublists(flat_iterations,all_days_with_nfev) #two ouput from optimization, note list_nfev_guesses could be also in class"
   ]
  },
  {
   "cell_type": "markdown",
   "metadata": {},
   "source": [
    "Only first 30 guesses"
   ]
  },
  {
   "cell_type": "code",
   "execution_count": null,
   "metadata": {},
   "outputs": [],
   "source": [
    "# Initialize the figure outside the loop\n",
    "fig = go.Figure()\n",
    "\n",
    "# Assuming original_sublists and N are defined\n",
    "for i in range(1, 30+1 ):\n",
    "    fig.add_trace(go.Scatter(\n",
    "        x=list(range(len(original_sublists[f'guess_{i}']))), \n",
    "        y=original_sublists[f'guess_{i}'], \n",
    "        mode='lines', \n",
    "        name=f'Guess {i}'\n",
    "    ))\n",
    "\n",
    "# Update layout once after all traces have been added\n",
    "fig.update_layout(\n",
    "    title='Visualisation of evolution initial guesses - objective function evaluations (no mismatching)',\n",
    "    xaxis_title='Iterations',\n",
    "    yaxis_title='Cost obtained by proposed actions (Euro)',\n",
    "    font=dict(color=dark_green),\n",
    "    title_x=0.5 \n",
    ")\n",
    "#tomar legend but quit ...\n",
    "fig.show()\n"
   ]
  },
  {
   "cell_type": "code",
   "execution_count": null,
   "metadata": {},
   "outputs": [],
   "source": [
    "total_basic_ruler = -total_basic_ruler\n",
    "sell_basic_ruler = -buy_basic_ruler\n",
    "buy_basic_ruler = -sell_basic_ruler"
   ]
  },
  {
   "cell_type": "markdown",
   "metadata": {},
   "source": [
    "# 6. MISMATCHING\n",
    "\n",
    "identical\n",
    "\n",
    "## 6.1 param and running"
   ]
  },
  {
   "cell_type": "code",
   "execution_count": null,
   "metadata": {},
   "outputs": [],
   "source": [
    "mismatching_prob = 0.9 #here, only that changes\n",
    "prices = original_prices #strictly not needed\n",
    "production = original_production \n",
    "consumption = original_consumption\n",
    "#because has been modified to be sure"
   ]
  },
  {
   "cell_type": "code",
   "execution_count": null,
   "metadata": {},
   "outputs": [],
   "source": [
    "rolling_problem = OptimizationProblem(soc, prices, production, consumption, duration_step_in_hour, horiz, battery_capacity, max_charge, sell_back_ratio, timesteps_for_mismatching, method, options, num_guesses, mismatching_prob, forecast_certainty, mismatching_occurence)\n",
    "\n",
    "#initialize variables\n",
    "optimal_controls = []\n",
    "# soc_evolution = [[0,0,0,0]] #beug here\n",
    "soc_evolution = [] #beug here\n",
    "net_grid_evolution = []\n",
    "number_iterations_per_time_step = []\n",
    "\n",
    "horizon_copy = rolling_problem.H\n",
    "length_copy = len(rolling_problem.electricity_prices)\n",
    "soc = soc_start #not correct should work with class mais blc\n",
    "\n",
    "timestep = 0\n",
    "for t in range(length_copy):\n",
    "\n",
    "    #initial 3 variables\n",
    "    rolling_problem.electricity_prices = prices[t:t+horizon_copy]\n",
    "    rolling_problem.pv_production = production[t:t+horizon_copy]\n",
    "    rolling_problem.consumption = consumption[t:t+horizon_copy]\n",
    "\n",
    "    if len(rolling_problem.electricity_prices) != horizon_copy: #at the end, assumption here\n",
    "        rolling_problem.electricity_prices = np.append(rolling_problem.electricity_prices, np.zeros(horizon_copy - len(rolling_problem.electricity_prices)))\n",
    "        rolling_problem.pv_production = np.append(rolling_problem.pv_production, np.zeros(horizon_copy - len(rolling_problem.pv_production)))\n",
    "        rolling_problem.consumption = np.append(rolling_problem.consumption, np.zeros(horizon_copy - len(rolling_problem.consumption)))\n",
    "\n",
    "    if rolling_problem.accuracy_forecast != 1:\n",
    "        deviation = 1 - rolling_problem.accuracy_forecast\n",
    "        rolling_problem.pv_production = stochastically_deviate(rolling_problem.pv_production, deviation)\n",
    "        rolling_problem.consumption = stochastically_deviate(rolling_problem.consumption, deviation)\n",
    "    \n",
    "    print('another timestep --------------', timestep)\n",
    "    list_nfev_guesses, iterations = optimize_battery_operation(rolling_problem, soc) #no need timestep  \n",
    "\n",
    "    number_iterations_per_time_step.append(list_nfev_guesses) #for all, will need fro graph 4\n",
    "    \n",
    "\n",
    "    #here add during which timesteps possible... or based on production\n",
    "    '''to complete here but problem different data structure'''\n",
    "\n",
    "    # allowed_times = [9,10,11,12,13,14,15,16,17,18]\n",
    "    # if timestep in allowed_times: #change it here, not in main function\n",
    "    #     rolling_problem.probs_mismatch = 0.9 #variable in params does not play a role anymore\n",
    "    #     new_soc, new_grid, new_action = rolling_problem.apply_mismatch_and_update_soc(rolling_problem.pv_production[0], rolling_problem.consumption[0], rolling_problem.best_actions[0], soc) #depends on mismatch prob\n",
    "    # else:\n",
    "    #     rolling_problem.probs_mismatch = 0\n",
    "    \n",
    "    new_soc, new_grid, new_action = rolling_problem.apply_mismatch_and_update_soc(rolling_problem.pv_production[0], rolling_problem.consumption[0], rolling_problem.best_actions[0], soc) #depends on mismatch prob\n",
    "    \n",
    "    # print('new_grid', new_grid)\n",
    "    # print('new_action', new_action)\n",
    "    optimal_controls.append(new_action)\n",
    "    net_grid_evolution.append(new_grid) \n",
    "    soc_evolution.append(new_soc)\n",
    "    \n",
    "    # if mismatching!!\n",
    "    soc = new_soc[-1]\n",
    "\n",
    "    timestep = timestep + 1 #just for printing\n",
    "\n",
    "#----------------- cost calculation\n",
    "if mismatching_prob == 0:\n",
    "    print('not possible')\n",
    "    # MPC_total, MPC_buying, MPC_selling = cost_calculator_no_mismatching(net_grid_evolution, prices, sell_back_ratio, duration_step_in_hour) #could also take from class\n",
    "    # avg_soc = np.mean(soc_evolution)\n",
    "else:\n",
    "    MPC_total_mismatching, MPC_buying_mismatching, MPC_selling_mismatching = cost_calculator_with_mismatching(net_grid_evolution, prices, sell_back_ratio, duration_step_in_hour)\n",
    "    avg_soc = mean_flatten_list(soc_evolution)\n",
    "\n",
    "# avg_nfev = mean_flatten_list(number_iterations_per_time_step)"
   ]
  },
  {
   "cell_type": "code",
   "execution_count": null,
   "metadata": {},
   "outputs": [],
   "source": [
    "#prints MPC_total_mismatching\n",
    "print(\"MPC_total:\", MPC_total_mismatching) \n",
    "print(\"MPC_buying:\", MPC_buying_mismatching)\n",
    "print(\"MPC_selling:\", MPC_selling_mismatching)"
   ]
  },
  {
   "cell_type": "markdown",
   "metadata": {},
   "source": [
    "## 6.2 Graphs"
   ]
  },
  {
   "cell_type": "markdown",
   "metadata": {},
   "source": [
    "### Graph 1: Prices and net grid"
   ]
  },
  {
   "cell_type": "code",
   "execution_count": null,
   "metadata": {},
   "outputs": [],
   "source": [
    "#cost before\n",
    "#net_grid_evolution = [from_grid, to_grid]\n",
    "if isinstance(net_grid_evolution[0], list): #perform only once\n",
    "    net_grid_evolution = [sum(inner_list) for inner_list in net_grid_evolution]"
   ]
  },
  {
   "cell_type": "code",
   "execution_count": null,
   "metadata": {},
   "outputs": [],
   "source": [
    "#prices already fine\n",
    "net_grid_evolution = add_elem(net_grid_evolution)\n",
    "# prices = add_elem(prices)\n",
    "#prices_for_visual already defined\n",
    "\n",
    "# Create a figure\n",
    "fig = go.Figure()\n",
    "\n",
    "# left y-axis\n",
    "fig.add_trace(go.Scatter(x=list(range(len(net_grid_evolution_no_mismatching_copy))), y=net_grid_evolution_no_mismatching_copy, mode='lines', name='Net grid (no mismatching)', line_shape='hv', line=dict(color=light_green, width=3)))\n",
    "fig.add_trace(go.Scatter(x=list(range(len(net_grid_evolution)+1)), y=net_grid_evolution, mode='lines', name='Net grid (mismatching)', line_shape='hv', line=dict(color=dark_green, width=4, dash='dash')))\n",
    "\n",
    "#right y-axis\n",
    "fig.add_trace(go.Scatter(x=list(range(25)), y=prices_for_visual, mode='lines', name='Prices (right)', line_shape='hv', yaxis='y2', line=dict(color=blue, width=3)))\n",
    "\n",
    "# Update the layout\n",
    "fig.update_layout(title='Day-ahead electricity prices and net grid instantaneous power over a daily period',\n",
    "                title_x=0.5,\n",
    "                xaxis_title='Timesteps',\n",
    "                yaxis=dict(\n",
    "                title='Instantaneous power (W)'),\n",
    "                yaxis2=dict(\n",
    "                title='Price (Euro/kWh)',\n",
    "                overlaying='y',\n",
    "                side='right'),\n",
    "                legend_title='Legend',\n",
    "                legend=dict(\n",
    "                orientation='h',  # horizontal orientation\n",
    "                y=- 0.2,  # Position legend at the top (y < 1)\n",
    "                x=0),\n",
    "                font=dict(color=dark_green)    # Center the legend horizontally )\n",
    "                )\n",
    "\n",
    "# Show the figure\n",
    "fig.show()"
   ]
  },
  {
   "cell_type": "markdown",
   "metadata": {},
   "source": [
    "### Graph 2: Actions & SOC battery"
   ]
  },
  {
   "cell_type": "code",
   "execution_count": null,
   "metadata": {},
   "outputs": [],
   "source": [
    "optimal_controls = add_elem(optimal_controls) #tobe sure\n",
    "\n",
    "fig = go.Figure()\n",
    "\n",
    "\n",
    "# '''NO MISMATCHING'''\n",
    "# # left y-axis\n",
    "# fig.add_trace(go.Scatter(x=list(range(len(optimal_controls))), y=optimal_controls, mode='lines', name='Battery actions without mismatching', line_shape='hv', line=dict(color=light_green)))\n",
    "# #right y-axis\n",
    "# fig.add_trace(go.Scatter(x=list(range(len(soc_evolution))), y=soc_evolution, mode='lines', name='SoC without mismatching', yaxis='y2', line=dict(color=blue))) #dark_green\n",
    "\n",
    "'''MISMATCHING'''\n",
    "#soc evol\n",
    "# Create the x and y values for the continuous line\n",
    "x_values_continuous = []\n",
    "y_values_continuous = []\n",
    "\n",
    "for index, data_list in enumerate(soc_evolution):\n",
    "    x_values_continuous.extend([index + i/(timesteps_for_mismatching) for i in range(len(data_list))])\n",
    "    data_list = [x * 100 for x in data_list]\n",
    "    y_values_continuous.extend(data_list)\n",
    "    \n",
    "fig.add_trace(go.Scatter(x=x_values_continuous, y=y_values_continuous, mode='lines+markers', name='SoC with mismatching', yaxis='y2', line=dict(color=blue, width=3)))\n",
    "\n",
    "#control actions\n",
    "# Create the x and y values for the continuous line\n",
    "x_values_continuous = []\n",
    "y_values_continuous = []\n",
    "\n",
    "for index, data_list in enumerate(optimal_controls):\n",
    "    x_values_continuous.extend([index + i/(timesteps_for_mismatching) for i in range(len(data_list))])\n",
    "    y_values_continuous.extend(data_list)\n",
    "    \n",
    "fig.add_trace(go.Scatter(x=x_values_continuous, y=y_values_continuous, mode='lines+markers', name='Battery actions with mismatching', line=dict(color=light_green, width=3)))\n",
    "\n",
    "# Update the layout\n",
    "fig.update_layout(title='Mismatching: control actions and battery state of charge over a daily period',\n",
    "                title_x=0.5,\n",
    "                xaxis_title='Timesteps',\n",
    "                yaxis=dict(\n",
    "                title='Instantaneous power (W)'),\n",
    "                xaxis=dict(\n",
    "                range=[0, 24]),\n",
    "                yaxis2=dict(\n",
    "                title='Battery level (%)',\n",
    "                overlaying='y',\n",
    "                side='right'),\n",
    "                legend_title='Legend',\n",
    "                legend=dict(\n",
    "                orientation='h',  # horizontal orientation\n",
    "                y=- 0.2,  # Position legend at the top (y < 1)\n",
    "                x=0),\n",
    "                font=dict(color=dark_green),    # Center the legend horizontally )\n",
    "                )\n",
    "\n",
    "\n",
    "# Show the figure\n",
    "fig.show()"
   ]
  },
  {
   "cell_type": "markdown",
   "metadata": {},
   "source": [
    "# 7. Final overview"
   ]
  },
  {
   "cell_type": "code",
   "execution_count": null,
   "metadata": {},
   "outputs": [],
   "source": [
    "#mean of prices_kWh\n",
    "mean_price_kWh = round(np.mean(prices_kWh),4)\n",
    "print('mean price kWh', mean_price_kWh) #0.12 per kWh normally, OK"
   ]
  },
  {
   "cell_type": "code",
   "execution_count": null,
   "metadata": {},
   "outputs": [],
   "source": [
    "#find where consumption is a bit higher than prod\n",
    "print('Total production: ', round(total_prod_kW,2), 'kWh')\n",
    "print('Total consumption: ', round(total_cons_kW,2), 'kWh')\n",
    "#net grid\n",
    "print('------')\n",
    "net_grid = total_cons_kW - total_prod_kW\n",
    "print('Simple heursitic normally: ', round(net_grid * mean_price_kWh,2)) #maybe get rid of it"
   ]
  },
  {
   "cell_type": "code",
   "execution_count": null,
   "metadata": {},
   "outputs": [],
   "source": [
    "# print('total simple heuristic', round(total_simple_heuristic,4)) #not really useful, better no PV heuristic\n",
    "print('total no battery no pv', round(total_no_battery_no_pv,4))\n",
    "print('buy no battery no pv', round(buy_no_battery_no_pv,4))\n",
    "print('sell no battery no pv', round(sell_no_battery_no_pv,4))\n",
    "print('-----------------------')\n",
    "print('total pv no battery', round(total_pv_no_battery,4))\n",
    "print('buying pv no battery', round(buy_pv_no_battery,4))\n",
    "print('selling pv no battery', round(sell_pv_no_battery,4))\n",
    "print('-----------------------')\n",
    "print('total cost basic ruler', round(total_basic_ruler,4))\n",
    "print('buying cost basic ruler', round(buy_basic_ruler,4))\n",
    "print('selling cost basic ruler', round(sell_basic_ruler,4))\n",
    "print('-----------------------')\n",
    "print(\"MPC_total mismatching:\", round(MPC_total_no_mismatching,4)) \n",
    "print(\"MPC_buying mismatching:\", round(MPC_buying_no_mismatching,4))\n",
    "print(\"MPC_selling mismatching:\", round(MPC_selling_no_mismatching,4))\n",
    "print('-----------------------')\n",
    "print(\"MPC_total no mismatching:\", round(MPC_total_mismatching,4)) \n",
    "print(\"MPC_buying no mismatching:\", round(MPC_buying_mismatching,4))\n",
    "print(\"MPC_selling no mismatching:\", round(MPC_selling_mismatching,4))"
   ]
  }
 ],
 "metadata": {
  "kernelspec": {
   "display_name": "ml6",
   "language": "python",
   "name": "python3"
  },
  "language_info": {
   "codemirror_mode": {
    "name": "ipython",
    "version": 3
   },
   "file_extension": ".py",
   "mimetype": "text/x-python",
   "name": "python",
   "nbconvert_exporter": "python",
   "pygments_lexer": "ipython3",
   "version": "3.8.18"
  }
 },
 "nbformat": 4,
 "nbformat_minor": 2
}
