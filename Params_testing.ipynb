{
 "cells": [
  {
   "cell_type": "markdown",
   "metadata": {},
   "source": [
    "# 0. Dependencies"
   ]
  },
  {
   "cell_type": "code",
   "execution_count": null,
   "metadata": {},
   "outputs": [],
   "source": [
    "import numpy as np\n",
    "import matplotlib.pyplot as plt\n",
    "from scipy.optimize import minimize\n",
    "import plotly.graph_objects as go \n",
    "import plotly.express as px #for colors\n",
    "\n",
    "#prices\n",
    "from datetime import datetime\n",
    "import logging\n",
    "from entsoe import EntsoePandasClient\n",
    "import pandas as pd"
   ]
  },
  {
   "cell_type": "markdown",
   "metadata": {},
   "source": [
    "# 1. Data"
   ]
  },
  {
   "cell_type": "markdown",
   "metadata": {},
   "source": [
    "## 1.1 Profiles"
   ]
  },
  {
   "cell_type": "code",
   "execution_count": null,
   "metadata": {},
   "outputs": [],
   "source": [
    "#utility functions\n",
    "def sum_numpy(array):\n",
    "    return round(np.sum(array),2)\n",
    "\n",
    "def watt_to_kwh(array, timestep_in_hours):\n",
    "    return array*timestep_in_hours/1000\n",
    "\n",
    "def make_array_from_df (df, column):\n",
    "    return df[column].to_numpy()"
   ]
  },
  {
   "cell_type": "code",
   "execution_count": null,
   "metadata": {},
   "outputs": [],
   "source": [
    "#Profile 1:\n",
    "area_panel_1 = 2 #WP\n",
    "battery_capacity_1 = 5  # kWh\n",
    "max_charge_rate_1 = 2  # kW, take negative for discharge\n",
    "\n",
    "#Profile 2:\n",
    "area_panel_2 = 5 \n",
    "battery_capacity_2 = 10  \n",
    "max_charge_rate_2 = 5  \n",
    "\n",
    "#Profile 3:\n",
    "area_panel_3 = 15 #Danny 26..\n",
    "battery_capacity_3 = 15 #(Danny 16), maybe a bit too much considering below\n",
    "max_charge_rate_3 = 10\n",
    "\n",
    "#Change later these 3 profiles and explain how was chosen:\n",
    "# https://callmepower.be/en/energy/guides/understanding-your-bills\n",
    "# https://www.solarreviews.com/solar-panel-cost/wisconsin/belgium#best-rated-companies\n",
    "\n",
    "#robbe profile\n",
    "area_panel_robbe = 2.2 #6*370\n",
    "battery_capacity_robbe = 10.2\n",
    "max_charge_rate_robbe = 3.5"
   ]
  },
  {
   "cell_type": "markdown",
   "metadata": {},
   "source": [
    "## 1.2 Prices"
   ]
  },
  {
   "cell_type": "markdown",
   "metadata": {},
   "source": [
    "Format dictionary - not runned for computational efficiency"
   ]
  },
  {
   "cell_type": "code",
   "execution_count": null,
   "metadata": {},
   "outputs": [],
   "source": [
    "class DayAheadPrices:\n",
    "    def __init__(self, api_key):\n",
    "        self.client = EntsoePandasClient(api_key=api_key)\n",
    "\n",
    "    def fetch_and_print_day_ahead_prices(self, start_date, end_date, country_code='BE'):\n",
    "        \"\"\"Fetches and prints the day ahead prices for a specified country within a date range.\"\"\"\n",
    "        # Convert start_date and end_date to pandas Timestamp with timezone\n",
    "        timezone = 'Europe/Brussels'\n",
    "        date_start = pd.Timestamp(start_date, tz=timezone)\n",
    "        date_end = pd.Timestamp(end_date, tz=timezone)\n",
    "\n",
    "        logging.info(f'Fetching day ahead prices from ENTSO-E for {country_code}: {date_start} to {date_end}')\n",
    "        \n",
    "        # Fetch day ahead prices\n",
    "        try:\n",
    "            day_ahead_prices_df = self.client.query_day_ahead_prices(country_code=country_code, start=date_start, end=date_end)\n",
    "            # Convert the DataFrame to a dictionary with the date as the key and a list of prices as the value\n",
    "            prices_by_day = {}\n",
    "            for date, group in day_ahead_prices_df.groupby(day_ahead_prices_df.index.date):\n",
    "                prices_by_day[str(date)] = group.values.tolist()\n",
    "                \n",
    "            print(\"Day Ahead Prices (€/MWh):\")\n",
    "            print(prices_by_day)\n",
    "            return prices_by_day\n",
    "        except Exception as e:\n",
    "            print(f\"An error occurred while fetching data: {e}\")\n",
    "\n",
    "# if __name__ == \"__main__\":\n",
    "#     logging.basicConfig(level=logging.INFO)\n",
    "#     api_key = 'eaccd9d9-2a8e-42b0-9257-2aa47096934e' # Replace with your actual API key\n",
    "#     day_ahead_prices = DayAheadPrices(api_key)\n",
    "\n",
    "#     # Example usage: Fetch prices from 2024-03-01 to 2024-03-02 for Belgium\n",
    "#     start_date = '2022-01-01'\n",
    "#     end_date = '2023-01-01'\n",
    "#     prices_fluvius = day_ahead_prices.fetch_and_print_day_ahead_prices(start_date, end_date)\n",
    "\n",
    "#     start_date = '2023-02-01'\n",
    "#     end_date = '2023-06-30'\n",
    "#     robbe_prices = day_ahead_prices.fetch_and_print_day_ahead_prices(start_date, end_date)\n"
   ]
  },
  {
   "cell_type": "markdown",
   "metadata": {},
   "source": [
    "Preprocessing is already done... One year full data (if day length not 24 adapted). Also divided by 1000 to get eur/kWh !! "
   ]
  },
  {
   "cell_type": "code",
   "execution_count": null,
   "metadata": {},
   "outputs": [],
   "source": [
    "# np.savetxt('prices_fluvius.csv', prices_fluvius, delimiter=',') #do not save twice now\n",
    "# np.savetxt('prices_robbe.csv', robbe_prices, delimiter=',')"
   ]
  },
  {
   "cell_type": "markdown",
   "metadata": {},
   "source": [
    "## 1.3 robbe"
   ]
  },
  {
   "cell_type": "code",
   "execution_count": null,
   "metadata": {},
   "outputs": [],
   "source": [
    "robbe = pd.read_csv('data/robbe.csv')\n",
    "robbe_prices = np.loadtxt('data/prices_robbe.csv', delimiter=',')\n",
    "print(robbe_prices) #142 days"
   ]
  },
  {
   "cell_type": "code",
   "execution_count": null,
   "metadata": {},
   "outputs": [],
   "source": [
    "timestep = 5/60"
   ]
  },
  {
   "cell_type": "code",
   "execution_count": null,
   "metadata": {},
   "outputs": [],
   "source": [
    "robbe #unit here in Watt\n",
    "#Hoe zou ik deze data moeten gaan gebruiken gegeven de grotere granulariteit??"
   ]
  },
  {
   "cell_type": "code",
   "execution_count": null,
   "metadata": {},
   "outputs": [],
   "source": [
    "consumption_robbe = make_array_from_df(robbe, 'consumption')\n",
    "production_robbe = make_array_from_df(robbe, 'production')\n",
    "#replace NaN with 0\n",
    "consumption_robbe = np.nan_to_num(consumption_robbe)\n",
    "production_robbe = np.nan_to_num(production_robbe)"
   ]
  },
  {
   "cell_type": "code",
   "execution_count": null,
   "metadata": {},
   "outputs": [],
   "source": [
    "consumption_robbe = watt_to_kwh(consumption_robbe, timestep)\n",
    "production_robbe = watt_to_kwh(production_robbe, timestep)"
   ]
  },
  {
   "cell_type": "code",
   "execution_count": null,
   "metadata": {},
   "outputs": [],
   "source": [
    "#nan I do not know why?\n",
    "sum_cons_robbe = sum_numpy(consumption_robbe)\n",
    "sum_prod_robbe = sum_numpy(production_robbe)\n",
    "print(f\"Total consumption: {sum_cons_robbe} kWh\")\n",
    "print(f\"Total production: {sum_prod_robbe} kWh\")"
   ]
  },
  {
   "cell_type": "code",
   "execution_count": null,
   "metadata": {},
   "outputs": [],
   "source": [
    "len(consumption_robbe) #same\n",
    "len(production_robbe)"
   ]
  },
  {
   "cell_type": "code",
   "execution_count": null,
   "metadata": {},
   "outputs": [],
   "source": [
    "max(consumption_robbe) #per 5 min so times 3, OK in line"
   ]
  },
  {
   "cell_type": "code",
   "execution_count": null,
   "metadata": {},
   "outputs": [],
   "source": [
    "#print first and last date and check if there are any missing dates\n",
    "print(robbe['time'].min())\n",
    "print(robbe['time'].max())\n",
    "\n",
    "#5 months\n",
    "#missing midnight 1 March, ful day 31 March, full day 31 MAy and midnight 1 June"
   ]
  },
  {
   "cell_type": "code",
   "execution_count": null,
   "metadata": {},
   "outputs": [],
   "source": [
    "#plot consumption and production over time using plotly\n",
    "fig = go.Figure()\n",
    "fig.add_trace(go.Scatter(x=robbe['time'], y=consumption_robbe, mode='lines', name='Consumption'))\n",
    "fig.add_trace(go.Scatter(x=robbe['time'], y=production_robbe, mode='lines', name='Production'))\n",
    "fig.update_layout(title='Consumption and Production over time', xaxis_title='Date', yaxis_title='Energy (Watt)')"
   ]
  },
  {
   "cell_type": "code",
   "execution_count": null,
   "metadata": {},
   "outputs": [],
   "source": [
    "robbe_prices #[Eur/MWh]"
   ]
  },
  {
   "cell_type": "code",
   "execution_count": null,
   "metadata": {},
   "outputs": [],
   "source": [
    "#put consumption_robbe and production_robbe in a dataframe and add the time column\n",
    "# robbe_df = pd.DataFrame({'time': robbe['time'], 'consumption': consumption_robbe, 'production': production_robbe})"
   ]
  },
  {
   "cell_type": "code",
   "execution_count": null,
   "metadata": {},
   "outputs": [],
   "source": [
    "#add missing data\n",
    "#missing midnight 1 March, ful day 31 March, full day 31 MAy and midnight 1 June or LEAVE IT OUT"
   ]
  },
  {
   "cell_type": "code",
   "execution_count": null,
   "metadata": {},
   "outputs": [],
   "source": [
    "# in dataframe maybe easier... with prices ect"
   ]
  },
  {
   "cell_type": "markdown",
   "metadata": {},
   "source": [
    "## 1.4 Fluvius"
   ]
  },
  {
   "cell_type": "markdown",
   "metadata": {},
   "source": [
    "### 1.4.1 Consumption"
   ]
  },
  {
   "cell_type": "code",
   "execution_count": null,
   "metadata": {},
   "outputs": [],
   "source": [
    "#explain how Fluvius data has been used, correlation, clustering?,graphs, etc\n",
    "consumption = pd.read_csv('data/consumption.csv')\n",
    "#in kWh by default see legend doc"
   ]
  },
  {
   "cell_type": "code",
   "execution_count": null,
   "metadata": {},
   "outputs": [],
   "source": [
    "consumption #do only for one profile, temporary, per quarter so merge it first..."
   ]
  },
  {
   "cell_type": "code",
   "execution_count": null,
   "metadata": {},
   "outputs": [],
   "source": [
    "#for id == 173 make a numpy array with consumption column\n",
    "cons_1 = consumption[consumption['id'] == 272] #low\n",
    "cons_1 = cons_1['consumption'].to_numpy()\n",
    "cons_2 = consumption[consumption['id'] == 173] #median\n",
    "cons_2 = cons_2['consumption'].to_numpy()\n",
    "cons_3 = consumption[consumption['id'] == 550] #high\n",
    "cons_3 = cons_3['consumption'].to_numpy()"
   ]
  },
  {
   "cell_type": "code",
   "execution_count": null,
   "metadata": {},
   "outputs": [],
   "source": [
    "len(cons_3) #quarterly data, all same length"
   ]
  },
  {
   "cell_type": "code",
   "execution_count": null,
   "metadata": {},
   "outputs": [],
   "source": [
    "total_quarters_in_one_year = 365 * 24 * 4\n",
    "total_quarters_in_one_year"
   ]
  },
  {
   "cell_type": "code",
   "execution_count": null,
   "metadata": {},
   "outputs": [],
   "source": [
    "#print total consumption per cons\n",
    "sum_numpy(cons_1)\n",
    "sum_numpy(cons_2)\n",
    "sum_numpy(cons_3)\n",
    "print(f'sum cons 1: {sum_numpy(cons_1)}, sum cons 2: {sum_numpy(cons_2)}, sum cons 3: {sum_numpy(cons_3)} kWh/year')"
   ]
  },
  {
   "cell_type": "code",
   "execution_count": null,
   "metadata": {},
   "outputs": [],
   "source": [
    "max(cons_3) #unit is here...kWh"
   ]
  },
  {
   "cell_type": "code",
   "execution_count": null,
   "metadata": {},
   "outputs": [],
   "source": [
    "#plot conss using plotly\n",
    "#could groupy by 24 values... like in read_data notebook\n",
    "fig = go.Figure()\n",
    "fig.add_trace(go.Scatter(x=np.arange(len(cons_1)), y=cons_1, mode='lines', name='Low - cons 1')) # holidays, maybe not representative, lowest from 1300 conss...\n",
    "fig.add_trace(go.Scatter(x=np.arange(len(cons_2)), y=cons_2, mode='lines', name='Median - cons 2'))\n",
    "fig.add_trace(go.Scatter(x=np.arange(len(cons_3)), y=cons_3, mode='lines', name='High - cons 3'))\n",
    "fig.update_layout(title='Consumption conss', xaxis_title='Quarter', yaxis_title='Consumption (kWh)')\n",
    "fig.show()\n"
   ]
  },
  {
   "cell_type": "markdown",
   "metadata": {},
   "source": [
    "### 1.4.2 Production"
   ]
  },
  {
   "cell_type": "code",
   "execution_count": null,
   "metadata": {},
   "outputs": [],
   "source": [
    "efficiency_loss = 0.5 #tocheck... impact as ell on profile, probably a bit lower\n",
    "#explain where weather data has been generated"
   ]
  },
  {
   "cell_type": "code",
   "execution_count": null,
   "metadata": {},
   "outputs": [],
   "source": [
    "#load weather data\n",
    "weather = pd.read_csv('data/weather.csv')\n",
    "\n",
    "#make columns now for each profile, create first column and then for loop 1 to 4..."
   ]
  },
  {
   "cell_type": "code",
   "execution_count": null,
   "metadata": {},
   "outputs": [],
   "source": [
    "weather"
   ]
  },
  {
   "cell_type": "code",
   "execution_count": null,
   "metadata": {},
   "outputs": [],
   "source": [
    "def calc_prod(df, efficiency_loss): #no need area panel\n",
    "    #use temp and irradiance to calculate the production in df\n",
    "    df['prod_one_kw_panel'] = (1 - 0.005 * (df['temperature'] - 25)) * df['solar_irradiation'] * efficiency_loss #make it profile name!!\n",
    "    print('Done')\n",
    "    return df\n",
    "\n",
    "weather_with_prod = calc_prod(weather, efficiency_loss)"
   ]
  },
  {
   "cell_type": "code",
   "execution_count": null,
   "metadata": {},
   "outputs": [],
   "source": [
    "weather_with_prod"
   ]
  },
  {
   "cell_type": "code",
   "execution_count": null,
   "metadata": {},
   "outputs": [],
   "source": [
    "#plot prod_one_kw_panel\n",
    "fig = go.Figure()\n",
    "fig.add_trace(go.Scatter(x=weather_with_prod.index, y=weather_with_prod['prod_one_kw_panel']/1000, mode='lines', name='Production')) #here divided by 1000 and hour timestep so fine\n",
    "fig.update_layout(title='Production of only ONE kW panel', xaxis_title='Time', yaxis_title='Production (kWh)')\n",
    "fig.show() #need to zoom in"
   ]
  },
  {
   "cell_type": "code",
   "execution_count": null,
   "metadata": {},
   "outputs": [],
   "source": [
    "#print sum of prod_one_kw_panel\n",
    "print('Total production of 1 kW panel:', weather_with_prod['prod_one_kw_panel'].sum()/1000, 'kWh')\n",
    "print('Total irrandiance in BE:', weather_with_prod['solar_irradiation'].sum()/1000, 'kWh/m²/year') #W/m² is here one hour timestep, is an instant (average here) delivery of power, not energy\n",
    "#The yearly solar irradiance in Belgium typically varies around 1,000 to 1,150 kWh per square meter (kWh/m²/year)\n",
    "\n",
    "#Average consumption in Belgium is 4-5 persons 7,500 kWh/year (profile 2?)"
   ]
  },
  {
   "cell_type": "code",
   "execution_count": null,
   "metadata": {},
   "outputs": [],
   "source": [
    "#create a column prod_1, prod_2, prod_3 in weather_with_prod by multiplying prod_one_kw_panel with area_panel_1, area_panel_2, area_panel_3\n",
    "weather_with_prod['prod_1'] = weather_with_prod['prod_one_kw_panel'] * area_panel_1\n",
    "weather_with_prod['prod_2'] = weather_with_prod['prod_one_kw_panel'] * area_panel_2\n",
    "weather_with_prod['prod_3'] = weather_with_prod['prod_one_kw_panel'] * area_panel_3"
   ]
  },
  {
   "cell_type": "code",
   "execution_count": null,
   "metadata": {},
   "outputs": [],
   "source": [
    "weather_with_prod"
   ]
  },
  {
   "cell_type": "code",
   "execution_count": null,
   "metadata": {},
   "outputs": [],
   "source": [
    "#take array from it and do 4 replication same length normally, divide uniformly and by 1000 (to get KWh per quarter)\n",
    "#same as make_Wp_to_kWh function\n",
    "prod_1 = make_array_from_df(weather_with_prod, 'prod_1')/1000\n",
    "prod_2 = make_array_from_df(weather_with_prod, 'prod_2')/1000\n",
    "prod_3 = make_array_from_df(weather_with_prod, 'prod_3')/1000"
   ]
  },
  {
   "cell_type": "code",
   "execution_count": null,
   "metadata": {},
   "outputs": [],
   "source": [
    "#plot prod_1, prod_2, prod_3\n",
    "fig = go.Figure()\n",
    "fig.add_trace(go.Scatter(x=weather_with_prod.index, y=prod_1, mode='lines', name='Production 1')) #here divided by 1000 and hour timestep so fine\n",
    "fig.add_trace(go.Scatter(x=weather_with_prod.index, y=prod_2, mode='lines', name='Production 2')) #here divided by 1000 and hour timestep so fine\n",
    "fig.add_trace(go.Scatter(x=weather_with_prod.index, y=prod_3, mode='lines', name='Production 3')) #here divided by 1000 and hour timestep so fine\n",
    "fig.update_layout(title='Production of panels', xaxis_title='Time', yaxis_title='Production (kWh) dunring quarter')\n",
    "fig.show() #need to zoom in"
   ]
  },
  {
   "cell_type": "code",
   "execution_count": null,
   "metadata": {},
   "outputs": [],
   "source": [
    "len(prod_1) "
   ]
  },
  {
   "cell_type": "code",
   "execution_count": null,
   "metadata": {},
   "outputs": [],
   "source": [
    "#print here below the sum of the production for each profile\n",
    "print('Total production for profile 1: ', prod_1.sum())\n",
    "print('Total production for profile 2: ', prod_2.sum())\n",
    "print('Total production for profile 3: ', prod_3.sum())"
   ]
  },
  {
   "cell_type": "markdown",
   "metadata": {},
   "source": [
    "### 1.4.3 Prices"
   ]
  },
  {
   "cell_type": "code",
   "execution_count": null,
   "metadata": {},
   "outputs": [],
   "source": [
    "#read from file\n",
    "prices_fluvius = np.loadtxt('prices_fluvius.csv', delimiter=',')\n",
    "print(prices_fluvius) #length is 8760"
   ]
  },
  {
   "cell_type": "markdown",
   "metadata": {},
   "source": [
    "# 2. Parameters"
   ]
  },
  {
   "cell_type": "code",
   "execution_count": null,
   "metadata": {},
   "outputs": [],
   "source": [
    "# #Varying - later\n",
    "\n",
    "# #Setup\n",
    "# battery_capacity = [10, 20, 30, 40, 50] # battery_capacity = np.array(battery_capacity) #kWh\n",
    "# battery_charge_rate= [2.5, 5, 10, 15, 20, 25] #same discharge\n",
    "\n",
    "# # Forecast and mismatching\n",
    "# forecast_certainty = [0.5, 0.7, 0.9, 1]\n",
    "# misatching_prob = [0, 0.2, 0.4, 0.5] #during day?\n",
    "\n",
    "# #Num of guesses\n",
    "# num_guesses = [10, 20, 30] #epending on hoirzon\n",
    "\n",
    "# #Timesteps\n",
    "# do I need to assume a certain granularity?\n",
    "# frequency_granualirty = [24, 12, 8, 6, 4, 2, 1, 1/2, 1/4, 1/8, 1/12]\n",
    "# horizon_in_timesteps =  [0, 1, 3, 5] #also remaining time or maybe procentual\n",
    "\n",
    "# #Prices ell back ratio\n",
    "# sell_back_ratio = [0.2, 0.5, 0.8, 1]\n",
    "\n",
    "# #Seasonality is embedded, explain empirical case\n",
    "# #try to minimise other params, methods, options explained was experimented before no significant difference, work procentually\n",
    "#initial state_battery, no impact I guess\n",
    "\n",
    "# #Goal: find patterns where mismatching has an impact depending on parameters, quantify the problem and say how condense it\n",
    "\n",
    "# # do a foor loop for testing everything and keeping the record.... nmber of combinations ..\n"
   ]
  },
  {
   "cell_type": "code",
   "execution_count": null,
   "metadata": {},
   "outputs": [],
   "source": [
    "max_capacity = 10  # kWh\n",
    "max_charge_rate = 5  # kWh per hour (kW)\n",
    "max_discharge_rate = -5 #negative!\n",
    "\n",
    "#only this to change\n",
    "\n",
    "timesteps_for_mismatching = 2\n",
    "probability_mismatching = 0.1 #4 scenarios, no 0.2, 0.5, 1\n",
    "\n",
    "efficiency_battery = 1\n",
    "efficiency_inverter = 1 \n",
    "grid_price_ratio = 0.5\n",
    "fraction_std_dev = 8\n",
    "\n",
    "#mismatching when above average assumption\n",
    "mismatching_occurence = 1 #0 both, 1 pv, 2 consumption\n",
    "\n",
    "# Stored elec in battery and directly consumed(c) PV go through inverter\n",
    "# PV production (p) to battery no need to go through inverter\n",
    "\n",
    "# Initial state\n",
    "soc_start = 0  # not kWh value, but percentage\n",
    "horizon = 10 # number of timesteps\n",
    "forecast_certainity = 1 #percentage\n",
    "\n",
    "# for MPC\n",
    "options = {'maxiter': 10, 'ftol': 0.2} #consequtive\n",
    "method = 'SLSQP'\n",
    "num_guesses = 10"
   ]
  },
  {
   "cell_type": "code",
   "execution_count": null,
   "metadata": {},
   "outputs": [],
   "source": [
    "N = 2 #duration in hours of a timestep!!!!"
   ]
  },
  {
   "cell_type": "markdown",
   "metadata": {},
   "source": [
    "# 3. Data aggregation"
   ]
  },
  {
   "cell_type": "markdown",
   "metadata": {},
   "source": [
    "First start with data from robbe, so take 15 min as anchor\n",
    "\n",
    "2 functions: todo make it more generic"
   ]
  },
  {
   "cell_type": "markdown",
   "metadata": {},
   "source": [
    "N can be 1/12, 1/4, 1/2, 1, 2, 6, 12, 24\n",
    "\n",
    "5, 15, 30 min 1 uur, 2 uur , 6 uur, 12 uur, 24 uur"
   ]
  },
  {
   "cell_type": "markdown",
   "metadata": {},
   "source": [
    "- Length prices: 24 (capped), 48, 96, 192, 288\n",
    "- Length Cons/prod: 1, 2, 3, 6, 12, 24, 48, 96, 192, 288"
   ]
  },
  {
   "cell_type": "code",
   "execution_count": null,
   "metadata": {},
   "outputs": [],
   "source": [
    "#make production quarterly\n",
    "\n",
    "def prod(array):\n",
    "    replication_factor = 4\n",
    "    array = np.repeat(array, replication_factor) / 4\n",
    "    return array"
   ]
  },
  {
   "cell_type": "code",
   "execution_count": null,
   "metadata": {},
   "outputs": [],
   "source": [
    "def prices_dismantle(prices, duration_timestep_in_hours):\n",
    "       \n",
    "    if duration_timestep_in_hours >= 1: #always know the prices\n",
    "        return prices\n",
    "    else: #duration_timestep_in_hours < 1\n",
    "        repeat_factor = 1/duration_timestep_in_hours\n",
    "        prices = np.repeat(prices, repeat_factor)\n",
    "        \n",
    "        return prices"
   ]
  },
  {
   "cell_type": "code",
   "execution_count": null,
   "metadata": {},
   "outputs": [],
   "source": [
    "def resize_prod_cons_fluvius(arr, duration_timestep_in_hours): #in functie lengte van arr for robbe\n",
    "\n",
    "    initial_length = len(arr) #35040 or 105120\n",
    "\n",
    "    if duration_timestep_in_hours == 1/12:\n",
    "        repeat_factor = 3\n",
    "        arr = np.repeat(arr, repeat_factor)\n",
    "        arr = arr / repeat_factor\n",
    "        return arr\n",
    "    \n",
    "    elif duration_timestep_in_hours == 1/4:\n",
    "        return arr\n",
    "    \n",
    "    elif duration_timestep_in_hours == 1/2:\n",
    "        #every two elements take the sum (not mean)\n",
    "        new_arr = np.sum(arr.reshape(-1, 2), axis=1)\n",
    "        return new_arr\n",
    "    \n",
    "    elif duration_timestep_in_hours == 1:\n",
    "        new_arr = np.sum(arr.reshape(-1, 4), axis=1)\n",
    "        return new_arr\n",
    "    \n",
    "    else: #major assumptions hourly prices are known!!\n",
    "        #N 2,6, 12 or 24\n",
    "        #aggregate and distribute\n",
    "        repeat_factor = duration_timestep_in_hours * 4\n",
    "        new_arr = np.sum(arr.reshape(-1, repeat_factor), axis=1)\n",
    "        new_arr = np.repeat(new_arr, duration_timestep_in_hours)\n",
    "        new_arr = new_arr / duration_timestep_in_hours\n",
    "        if len (new_arr) != 8760:\n",
    "            print('Error in resizing')\n",
    "        return new_arr\n",
    "    \n",
    "\n",
    "#todo for robbe"
   ]
  },
  {
   "cell_type": "markdown",
   "metadata": {},
   "source": [
    "### From here for data computations..."
   ]
  },
  {
   "cell_type": "code",
   "execution_count": null,
   "metadata": {},
   "outputs": [],
   "source": [
    "electricity_prices = prices_fluvius  # Euro per kWh\n",
    "pv_production = prod_2 # PV production (kWh)\n",
    "consumption = cons_2  # Household consumption (kWh)\n",
    "\n",
    "#later in parameter do something with profile\n",
    "\n",
    "N = 2\n",
    "timesteps_for_mismatching = 3\n",
    "horizon = 6"
   ]
  },
  {
   "cell_type": "code",
   "execution_count": null,
   "metadata": {},
   "outputs": [],
   "source": [
    "#change if robbe data!!\n",
    "#do not run it twice...\n",
    "\n",
    "if len(pv_production) == 24*365:\n",
    "    pv_production = prod(pv_production) #for prod_1, prod_2, prod_3\n",
    "\n",
    "electricity_prices = prices_dismantle(electricity_prices, N)\n",
    "pv_production = resize_prod_cons_fluvius(pv_production, N)\n",
    "consumption = resize_prod_cons_fluvius(consumption, N)\n",
    "print(electricity_prices)\n",
    "print(pv_production)\n",
    "print(consumption)\n",
    "#check all nmpy array same length\n",
    "\n",
    "if len(electricity_prices) != len(pv_production) or len(electricity_prices) != len(consumption):\n",
    "    \n",
    "    print(len(electricity_prices))\n",
    "    print(len(pv_production))\n",
    "    print(len(consumption))\n",
    "    raise ValueError(\"All numpy arrays must have the same length\")\n",
    "\n"
   ]
  },
  {
   "cell_type": "code",
   "execution_count": null,
   "metadata": {},
   "outputs": [],
   "source": [
    "#keep only the first 1000 values of each\n",
    "electricity_prices = electricity_prices[5000:5500]\n",
    "pv_production = pv_production[5000:5500]\n",
    "consumption = consumption[5000:5500]\n",
    "\n",
    "#make full sample data for visualisation copy\n",
    "electricity_prices_full = electricity_prices\n",
    "pv_production_full = pv_production\n",
    "consumption_full = consumption"
   ]
  },
  {
   "cell_type": "code",
   "execution_count": null,
   "metadata": {},
   "outputs": [],
   "source": [
    "print(len(electricity_prices))\n",
    "print(len(pv_production))\n",
    "print(len(consumption))"
   ]
  },
  {
   "cell_type": "markdown",
   "metadata": {},
   "source": [
    "# Data simulation - temporary - outcommented"
   ]
  },
  {
   "cell_type": "markdown",
   "metadata": {},
   "source": [
    "## Data creation"
   ]
  },
  {
   "cell_type": "code",
   "execution_count": null,
   "metadata": {},
   "outputs": [],
   "source": [
    "# #imagine for the moment fake data quarterly (4*24) everything!!!\n",
    "# G = 4*24 #granularity of the data\n",
    "# np.random.seed(42)\n",
    "# #prices always 24\n",
    "# electricity_prices = np.random.uniform(0.1, 0.6, 24)  # Euro per kWh\n",
    "# electricity_prices = np.round(electricity_prices, decimals=1) \n",
    "# pv_production = np.random.randint(0, 5, G) # PV production (kWh)\n",
    "# consumption = np.random.randint(0, 20, G)  # Household consumption (kWh)"
   ]
  },
  {
   "cell_type": "code",
   "execution_count": null,
   "metadata": {},
   "outputs": [],
   "source": [
    "# # N = 24 #duration of a timestep in hours ! (changed) # for simulation\n",
    "\n",
    "# max_capacity = 10  # kWh\n",
    "# max_charge_rate = 5  # kWh per hour (kW)\n",
    "# max_discharge_rate = -5 #negative!\n",
    "\n",
    "# #only this to change\n",
    "\n",
    "# timesteps_for_mismatching = 2\n",
    "# probability_mismatching = 0.1 #1- zou moeten zijn, also difference between production and consumption\n",
    "\n",
    "# efficiency_battery = 1\n",
    "# efficiency_inverter = 1 \n",
    "# grid_price_ratio = 0.5\n",
    "# fraction_std_dev = 8\n",
    "\n",
    "# # Stored elec in battery and directly consumed(c) PV go through inverter\n",
    "# # PV production (p) to battery no need to go through inverter\n",
    "\n",
    "# # Initial state\n",
    "# soc_start = 0  # not kWh value, but percentage\n",
    "# horizon = 10 # number of timesteps\n",
    "# forecast_certainity = 1 #percentage\n",
    "\n",
    "# # for MPC\n",
    "# options = {'maxiter': 1000, 'ftol': 1e-6}\n",
    "# method = 'SLSQP'\n",
    "# num_guesses = 25"
   ]
  },
  {
   "cell_type": "markdown",
   "metadata": {},
   "source": [
    "## Data aggregation"
   ]
  },
  {
   "cell_type": "code",
   "execution_count": null,
   "metadata": {},
   "outputs": [],
   "source": [
    "def prices_dismantle(prices, t):\n",
    "       \n",
    "    if t >= 1: #always know the prices\n",
    "        return prices\n",
    "    else: #t < 1\n",
    "        new_length = 24/t\n",
    "        if new_length % 24 == 0:\n",
    "            repeat_factor = new_length // 24 #already ensured multiple of 24 in cons and prod, should be an integer\n",
    "            new_price = np.repeat(prices, repeat_factor)\n",
    "            return new_price\n",
    "        else:\n",
    "            raise ValueError(\"timestep is not a multiple of 24\")"
   ]
  },
  {
   "cell_type": "code",
   "execution_count": null,
   "metadata": {},
   "outputs": [],
   "source": [
    "def resize_prod_cons(arr, t):\n",
    "    new_length = int(24/t)\n",
    "    # print(f'from 96 to length of: {new_length}')\n",
    "    list_allowed_lenghts = [1, 2, 3, 4, 6, 12, 24, 48, 96, 192, 288]\n",
    "\n",
    "    if new_length not in list_allowed_lenghts:\n",
    "        raise ValueError(\"New length must be an integer multiple or divisible by the original length.\")\n",
    "    \n",
    "    else:\n",
    "        if new_length == 96:\n",
    "            return arr\n",
    "        elif new_length > 96:\n",
    "            repeat_factor = new_length // 96\n",
    "            new_arr = np.repeat(arr, repeat_factor)\n",
    "            #here also would need to divide by repeat factor\n",
    "            return new_arr\n",
    "        elif new_length < 96:\n",
    "            group_size = 96 // new_length\n",
    "            new_arr = np.sum(arr.reshape(-1, group_size), axis=1) #here should be sum not mean\n",
    "\n",
    "            if new_length < 24:\n",
    "                redistribute_factor = 24 // new_length\n",
    "                new_arr = np.repeat(new_arr, redistribute_factor) #step 1: repeat\n",
    "                new_arr = new_arr / redistribute_factor #step 2: divide\n",
    "\n",
    "            return new_arr"
   ]
  },
  {
   "cell_type": "code",
   "execution_count": null,
   "metadata": {},
   "outputs": [],
   "source": [
    "# # N can be 24, 12, 8, 6, 4, 2, 1, 1/2, 1/4, 1/8, 1/12\n",
    "# # to do convert in minutes\n",
    "# N= 2\n",
    "\n",
    "# electricity_prices = prices_dismantle(electricity_prices, N)\n",
    "# pv_production = resize_prod_cons(pv_production, N)\n",
    "# consumption = resize_prod_cons(consumption, N)\n",
    "# print(electricity_prices)\n",
    "# print(pv_production)\n",
    "# print(consumption)\n",
    "# #check all nmpy array same length\n",
    "# if len(electricity_prices) != len(pv_production) or len(electricity_prices) != len(consumption):\n",
    "#     raise ValueError(\"All numpy arrays must have the same length\")\n",
    "\n",
    "# #make full sample data for visualisation copy\n",
    "# electricity_prices_full = electricity_prices\n",
    "# pv_production_full = pv_production\n",
    "# consumption_full = consumption\n",
    "\n",
    "# print(f'length of electricity_prices: {len(electricity_prices)}')"
   ]
  },
  {
   "cell_type": "markdown",
   "metadata": {},
   "source": [
    "# 4. MPC for battery scheduling"
   ]
  },
  {
   "cell_type": "markdown",
   "metadata": {},
   "source": [
    "3 main constraints:\n",
    "- demand = supply at t taking into account battery and PV\n",
    "- cannot output charging command that exceeds soc boundaries in next timestep \n",
    "- properties respected: max charging rate - corrected with efficiency"
   ]
  },
  {
   "cell_type": "markdown",
   "metadata": {},
   "source": [
    "Note: consider always production, price, consumption for the COMING timestep. SOC will be one element extra bcs initial"
   ]
  },
  {
   "cell_type": "markdown",
   "metadata": {},
   "source": [
    "For later (inverter and dynamic grid prices, aggregation of timesteps to see impact)"
   ]
  },
  {
   "cell_type": "markdown",
   "metadata": {},
   "source": [
    "## 4.1 Utility functions"
   ]
  },
  {
   "cell_type": "code",
   "execution_count": null,
   "metadata": {},
   "outputs": [],
   "source": [
    "# Utility functions defined outside the class\n",
    "def total(price, volume):\n",
    "    return price * volume\n",
    "\n",
    "def generate_profiles(time_segments, probability): #add pprobab as param\n",
    "        np.random.seed(42)\n",
    "\n",
    "        if np.random.rand() > probability:  # 90% of the time, add this as a parameter later\n",
    "                profile = np.full(time_segments, 1 / time_segments)  # Uniformly distributed\n",
    "        else:\n",
    "            random_values = np.random.uniform(0, 1, time_segments)\n",
    "            random_values /= random_values.sum()  # Ensure sum is 1\n",
    "            profile = np.round(random_values, decimals=1)  # Rounded to one decimal\n",
    "\n",
    "        return profile"
   ]
  },
  {
   "cell_type": "markdown",
   "metadata": {},
   "source": [
    "## 4.2 Class: among other cost function and scenarios"
   ]
  },
  {
   "cell_type": "markdown",
   "metadata": {},
   "source": [
    "N becomes T, no self.T anymore"
   ]
  },
  {
   "cell_type": "code",
   "execution_count": null,
   "metadata": {},
   "outputs": [],
   "source": [
    "class OptimizationProblem:\n",
    "\n",
    "    #note name variables in __init__ are not the same as the ones in the class\n",
    "    def __init__(self, soc_initial, electricity_prices, pv_production, consumption, N, horizon, max_capacity, max_charge_rate, max_discharge_rate, efficiency_battery, efficiency_inverter, grid_price_ratio, fraction_std_dev, time_segments, method, options, num_guesses, probs_mismatch, accuracy_forecast, mismatching_occurence):\n",
    "        self.soc_initial = soc_initial\n",
    "        self.H = horizon\n",
    "        self.N = N #length of one timestep in hours\n",
    "\n",
    "\n",
    "        #I think below for simulation data but not needed\n",
    "        # if N > 1:\n",
    "        #     self.N = 24\n",
    "        # else:\n",
    "        #     self.N = int(24/N) #number of timesteps\n",
    "        #--------\n",
    "        #N is the input, used for length of timestep in hours (T) and number of timesteps also (N)!!\n",
    "        #H is horizon\n",
    "\n",
    "        self.electricity_prices = electricity_prices\n",
    "        self.pv_production = pv_production\n",
    "        self.consumption = consumption\n",
    "\n",
    "        self.max_capacity = max_capacity\n",
    "        self.max_charge_rate = max_charge_rate\n",
    "        self.max_discharge_rate = max_discharge_rate\n",
    "        self.efficiency_inverter = efficiency_inverter\n",
    "        self.efficiency_battery = efficiency_battery\n",
    "\n",
    "        self.time_segments = time_segments\n",
    "        self.probs_mismatch = probs_mismatch\n",
    "        self.grid_price_ratio = grid_price_ratio\n",
    "        self.fraction_std_dev = fraction_std_dev\n",
    "        self.accuracy_forecast = accuracy_forecast\n",
    "        self.mismatching_occurence = mismatching_occurence\n",
    "\n",
    "        self.method = method\n",
    "        self.options = options\n",
    "        self.num_guesses = num_guesses\n",
    "\n",
    "        self.true_charging_actions = None  # To store the \"true\" charging actions\n",
    "        self.soc_list = None  # To store the state of charge over time\n",
    "        self.grid_list = None  # To store the net grid interaction over time\n",
    "\n",
    "        #for looping over best guesses\n",
    "        self.best_actions = None\n",
    "        self.best_soc = None\n",
    "        self.best_grid = None\n",
    "        self.best_fake_actions = None\n",
    "\n",
    "        self.evaluations = [] #for guesses convergence\n",
    "\n",
    "    def get_bounds(self):\n",
    "        # Generate bounds based on max_charge_rate and max_discharge_rate\n",
    "        return [(self.max_discharge_rate, self.max_charge_rate) for _ in range(self.H)]\n",
    "    \n",
    "    #changed to horizon\n",
    "    \n",
    "\n",
    "    def initial_guesses(self):\n",
    "        current_soc = self.soc_initial\n",
    "        if num_guesses == 1:\n",
    "            # One guess: neutral middle-ground, rounded to two decimals.\n",
    "            return [np.round(np.zeros(self.H), 2)]\n",
    "        else:\n",
    "            guesses = []\n",
    "            for _ in range(num_guesses):\n",
    "                guess = np.zeros(self.H)\n",
    "                for t in range(self.H):\n",
    "                    # Randomly decide between discrete choices and a continuous range selection.\n",
    "                    if np.random.rand() < 0.25:\n",
    "                        # 20% chance to select any value in the range.\n",
    "                        action = np.random.uniform(self.max_discharge_rate, self.max_charge_rate)\n",
    "                    else:\n",
    "                        # 80% chance to favor extremes and zero.\n",
    "                        if current_soc == 0:\n",
    "                            # Can only charge_rate.\n",
    "                            action = np.random.choice([0, self.max_charge_rate], p=[0.2, 0.8])\n",
    "                        elif current_soc == self.max_capacity:\n",
    "                            # Can only discharge_rate.\n",
    "                            action = np.random.choice([0, self.max_discharge_rate], p=[0.2, 0.8])\n",
    "                        else:\n",
    "                            # Can charge_rate or discharge_rate; favor extremes and zero.\n",
    "                            action = np.random.choice([0, self.max_charge_rate, self.max_discharge_rate], p=[0.4, 0.3, 0.3])\n",
    "\n",
    "                    # Round the action to two decimals.\n",
    "                    action = np.round(action, 2)\n",
    "                    \n",
    "                    # Apply action to the current state of charge_rate, ensuring it remains within bounds.\n",
    "                    current_soc = np.clip(current_soc + action, 0, self.max_capacity)\n",
    "                    guess[t] = action\n",
    "                    \n",
    "                    # Optionally, enforce more realistic sequences (e.g., discharge_rate after charging).\n",
    "                    if t > 0 and guess[t-1] > 0 and action > 0:\n",
    "                        # If previously charging, introduce a higher chance to switch to discharging or neutral.\n",
    "                        if np.random.rand() < 0.5:\n",
    "                            guess[t] = np.random.choice([0, self.max_discharge_rate], p=[0.5, 0.5])\n",
    "                            guess[t] = np.round(guess[t], 2)\n",
    "                    \n",
    "                    current_soc = np.clip(current_soc + guess[t] - action, 0, self.max_capacity)\n",
    "                \n",
    "                guesses.append(guess)\n",
    "            \n",
    "            return guesses\n",
    "\n",
    "    \n",
    "    def heuristic(self): #because they change over time\n",
    "        sum_pv = np.sum(self.pv_production)\n",
    "        sum_cons = np.sum(self.consumption)\n",
    "        battery = self.max_capacity * (self.soc_initial)\n",
    "        difference = sum_cons - sum_pv - battery\n",
    "\n",
    "        print(f'sum_pv: {sum_pv}, sum_cons: {sum_cons}, battery: {battery}, difference: {difference}')\n",
    "\n",
    "        max_price = np.max(self.electricity_prices)\n",
    "        min_price = np.min(self.electricity_prices)\n",
    "        avg_price = np.mean(self.electricity_prices)\n",
    "        max_cost = total(max_price, difference * self.N)\n",
    "        min_cost = total(min_price, difference * self.N)\n",
    "        avg_cost = total(avg_price, difference * self.N)\n",
    "        return max_cost, min_cost, avg_cost\n",
    "\n",
    "        '''Change to one heursitic: difference each timestep : net grid times the corresponding price - so basically no battery benchmark''' #mybe only one heuristic\n",
    "\n",
    "    #core, I only need SOc, actions and net_grid to come out of this, rest can be computed afterwards\n",
    "    def cost_function(self, proposed_charging_actions):\n",
    "        soc = self.soc_initial\n",
    "        charging_cost = 0\n",
    "        soc_list = [soc]  # Initialize SOC list with initial SOC\n",
    "        charging_action_list = []\n",
    "        net_grid = []\n",
    "\n",
    "        #constraint 2\n",
    "        for i in range(self.H): #at each timestep\n",
    "\n",
    "            #changed to horizon\n",
    "\n",
    "            #a) action\n",
    "            # -------------------------------------\n",
    "            if proposed_charging_actions[i] > 0:  # Charging\n",
    "                charging_action = min(proposed_charging_actions[i] * self.N, (1 - soc) * self.max_capacity) \n",
    "                # print(f'proposed_charging_actions {proposed_charging_actions[i]} and self.N {self.N}')\n",
    "                # print(f'charging action: {charging_action}')\n",
    "                #not necessary to adapt for efficiency battery, it is LOSS\n",
    "            elif proposed_charging_actions[i] < 0:  # Discharging\n",
    "                charging_action = max(proposed_charging_actions[i] * self.N, -soc * self.max_capacity) #maximum of two negative values. Quesrion: can I send signal to battery to discharge more?\n",
    "                # print(f'discharging action: {charging_action}')\n",
    "            else:  # No charging action\n",
    "                # print('no action')\n",
    "                charging_action = 0\n",
    "            \n",
    "            #b) state of charge\n",
    "            # -------------------------------------\n",
    "            if charging_action > 0:\n",
    "                real_action = charging_action * self.efficiency_battery \n",
    "                soc += real_action / self.max_capacity\n",
    "            elif charging_action < 0:  # When you ask a battery to discharge a certain power, taking into account its efficiency, it needs to discharge more than requested to ensure the desired output is met due to efficiency losses\n",
    "                real_action = charging_action / self.efficiency_battery\n",
    "                soc += real_action / self.max_capacity\n",
    "            else:\n",
    "                real_action = 0\n",
    "            \n",
    "            # DID not take into account inverter yet\n",
    "            # soc = max(0, min(soc, self.max_capacity))  # not strictly necessary\n",
    "            \n",
    "            #c) net grid\n",
    "            # -------------------------------------\n",
    "            # constraint 1\n",
    "            grid = self.consumption[i] - self.pv_production[i] + charging_action\n",
    "\n",
    "            #chargig_cost is aggregate, later use ut to calculate buyinfg and selling\n",
    "            if grid > 0:\n",
    "                charging_cost += grid * self.electricity_prices[i] * self.N #because price is per hour eur/kWh\n",
    "            elif grid < 0:\n",
    "                charging_cost += grid * self.grid_price_ratio * self.electricity_prices[i] * self.N\n",
    "            else:\n",
    "                pass\n",
    "\n",
    "            # append to lists\n",
    "            soc_list.append(round(soc,2))\n",
    "            charging_action_list.append(round(real_action, 2))\n",
    "            net_grid.append(round(grid,2))\n",
    "\n",
    "        # Update the instance attributes with the final results\n",
    "        self.true_charging_actions = charging_action_list\n",
    "        self.soc_list = soc_list\n",
    "        self.grid_list = net_grid\n",
    "\n",
    "        self.evaluations.append((charging_cost)) #only keep the first see below\n",
    "\n",
    "        return charging_cost\n",
    "        # Return the total charging cost as the optimization objective (only one variable allowed)\n",
    "    \n",
    "\n",
    "    def apply_mismatch_and_update_soc(self, prod_amount, cons_amount, proposed_action, soc_init): #not needed to be in class I think, but better for params\n",
    "        #initialize\n",
    "        #no need efficiency already done in real_action in cost function!!!\n",
    "        # np.random.seed(42) in generate profile\n",
    "        print('hello')\n",
    "        soc = soc_init #not same as self.soc_initial\n",
    "        net_grid_segment = 0\n",
    "        from_grid = 0\n",
    "        to_grid = 0\n",
    "        total_grid = []\n",
    "        actions_segment_list = []\n",
    "\n",
    "        # Generate mismatch profiles\n",
    "        if self.mismatching_occurence == 0: \n",
    "            prod_mismatch_profile = generate_profiles(self.time_segments, self.probs_mismatch)\n",
    "            cons_mismatch_profile = generate_profiles(self.time_segments, self.probs_mismatch)\n",
    "        elif self.mismatching_occurence == 1:\n",
    "            prod_mismatch_profile = generate_profiles(self.time_segments, self.probs_mismatch)\n",
    "            cons_mismatch_profile = np.full(self.time_segments, 0)\n",
    "        else: #self.mismatching_occurence == 2\n",
    "            prod_mismatch_profile = np.full(self.time_segments, 0)\n",
    "            cons_mismatch_profile = generate_profiles(self.time_segments, self.probs_mismatch)\n",
    "\n",
    "        # print(f'prod_mismatch_profile: {prod_mismatch_profile}')\n",
    "        # print(f'cons_mismatch_profile: {cons_mismatch_profile}')\n",
    "\n",
    "        # Iterate through each time segment\n",
    "        for i in range(self.time_segments):\n",
    "            # print(f'this is the {i}th iteration')\n",
    "            segment_prod = prod_amount * prod_mismatch_profile[i]\n",
    "            segment_cons = cons_amount * cons_mismatch_profile[i]\n",
    "        \n",
    "            if proposed_action > 0:  # Charging\n",
    "                action_for_segment = min(proposed_action * prod_mismatch_profile[i], max_charge_rate * self.N/self.time_segments) #here divided by 2 because hour, be careful later to not interchange charge rate and capcity kw and kwh \n",
    "                soc += action_for_segment / self.max_capacity\n",
    "\n",
    "            else:  # Discharging (or no action)\n",
    "                action_for_segment = max(proposed_action * cons_mismatch_profile[i], self.max_discharge_rate * self.N/self.time_segments) #same comments, max of two negative numbers\n",
    "                soc += action_for_segment / self.max_capacity\n",
    "            \n",
    "            # Update net grid exchange\n",
    "            net_grid_segment = segment_cons - segment_prod + action_for_segment\n",
    "\n",
    "            if net_grid_segment > 0:\n",
    "                from_grid += net_grid_segment\n",
    "            else:\n",
    "                to_grid += net_grid_segment\n",
    "\n",
    "            actions_segment_list.append(action_for_segment)\n",
    "    \n",
    "            # soc = max(0, min(soc, 1)) * 100 #not needed normally\n",
    "\n",
    "            #prints\n",
    "            # print(f'new soc at end segment {round(soc * 100, 2)} % , action in segment: {round(action_for_segment,2)}, segment cons: {round(segment_cons,2)}, segment prod: {round(segment_prod,2)}, net grid: {round(net_grid_segment,2)}')\n",
    "        \n",
    "        total_grid = [from_grid, to_grid]\n",
    "\n",
    "        return soc, total_grid, actions_segment_list\n",
    "    \n",
    "\n",
    "    #-------------------------- # not a lot different from cost function\n",
    "\n",
    "    def basic_ruler(self):\n",
    "        soc = self.soc_initial\n",
    "        charging_cost = 0\n",
    "        soc_list = [soc]  # Initialize SOC list with initial SOC\n",
    "        charging_action_list = []\n",
    "        net_grid = []\n",
    "        mean_price = np.mean(self.electricity_prices)\n",
    "\n",
    "        #constraint 2\n",
    "        for i in range(len(self.consumption)): #at each timestep, nothing to do with horizon bcs kijkt niet op voorhand, mismatching is per action donc blc\n",
    "\n",
    "            #a) action lined to price\n",
    "            # -------------------------------------\n",
    "            if self.electricity_prices[i] < mean_price:  # Charging\n",
    "                charging_action = min(self.max_charge_rate * self.N, (1 - soc) * self.max_capacity) \n",
    "            \n",
    "            elif self.electricity_prices[i] >= mean_price:  # Discharging\n",
    "                charging_action = max(self.max_discharge_rate * self.N, -soc * self.max_capacity) \n",
    "            else:  # No charging action\n",
    "                charging_action = 0\n",
    "                print('not possible')\n",
    "            \n",
    "            #b) state of charge\n",
    "            # -------------------------------------\n",
    "            if charging_action > 0:\n",
    "                real_action = charging_action * self.efficiency_battery \n",
    "                soc += real_action / self.max_capacity\n",
    "            elif charging_action < 0:  # When you ask a battery to discharge a certain power, taking into account its efficiency, it needs to discharge more than requested to ensure the desired output is met due to efficiency losses\n",
    "                real_action = charging_action / self.efficiency_battery\n",
    "                soc += real_action / self.max_capacity\n",
    "            else:\n",
    "                real_action = 0\n",
    "            \n",
    "            # DID not take into account inverter yet\n",
    "            # soc = max(0, min(soc, self.max_capacity))  # not strictly necessary\n",
    "            \n",
    "            #c) net grid\n",
    "            # -------------------------------------\n",
    "            # constraint 1\n",
    "            grid = self.consumption[i] - self.pv_production[i] + charging_action\n",
    "\n",
    "            #chargig_cost is aggregate, later use ut to calculate buying and selling\n",
    "            if grid > 0:\n",
    "                charging_cost += grid * self.electricity_prices[i]\n",
    "            elif grid < 0:\n",
    "                charging_cost += grid * self.grid_price_ratio * self.electricity_prices[i]\n",
    "            else:\n",
    "                pass\n",
    "\n",
    "            # pend to lists\n",
    "            soc_list.append(round(soc,2))\n",
    "            charging_action_list.append(round(real_action, 2))\n",
    "            net_grid.append(round(grid,2))\n",
    "\n",
    "        # Update the instance attributes with the final results\n",
    "        self.true_charging_actions = charging_action_list\n",
    "        self.soc_list = soc_list\n",
    "        self.grid_list = net_grid\n",
    "\n",
    "        self.evaluations.append((charging_cost)) #only keep the first see below\n",
    "\n",
    "        return charging_cost\n",
    "        # Return the total charging cost as the optimization objective (only one variable allowed) - Here the return is not really necessary!"
   ]
  },
  {
   "cell_type": "markdown",
   "metadata": {},
   "source": [
    "## 4.3 Optimisation def"
   ]
  },
  {
   "cell_type": "code",
   "execution_count": null,
   "metadata": {},
   "outputs": [],
   "source": [
    "def optimize_battery_operation(problem: OptimizationProblem, soc):\n",
    "\n",
    "    initial_guesses = problem.initial_guesses()\n",
    "    print(initial_guesses)\n",
    "\n",
    "    bounds = problem.get_bounds() #will need to be changed later\n",
    "    best_result = None\n",
    "\n",
    "    list_nfev = [] #maybe do a list for each guess\n",
    "\n",
    "    for guess in initial_guesses:\n",
    "        problem.soc_initial = soc\n",
    "        result = minimize(\n",
    "            problem.cost_function, \n",
    "            guess,  \n",
    "            method= problem.method, \n",
    "            bounds=bounds,\n",
    "            options= problem.options\n",
    "        )\n",
    "\n",
    "        list_nfev.append(result.nfev)\n",
    "\n",
    "        if best_result is None or result.fun < best_result.fun:\n",
    "            best_result = result\n",
    "            problem.best_fake_actions = result.x\n",
    "            problem.best_actions = problem.true_charging_actions\n",
    "            problem.best_soc = problem.soc_list\n",
    "            problem.best_grid = problem.grid_list\n",
    "    \n",
    "    print(f\"Best result: {round(best_result.fun,2)} Euro\")\n",
    "    # print(\"Best proposed fake optimal actions:\", proposed_fake_optimal_actions)\n",
    "    # print('Number of iterations', result.nfev)\n",
    "\n",
    "    return list_nfev #maybe need to change this"
   ]
  },
  {
   "cell_type": "markdown",
   "metadata": {},
   "source": [
    "## 4.4 Cost computation"
   ]
  },
  {
   "cell_type": "code",
   "execution_count": null,
   "metadata": {},
   "outputs": [],
   "source": [
    "def cost_calculator_no_mismatching(net_grid, electricity_prices, ratio_sell_back, timestep_duration):\n",
    "    # input: net_grid, ratio_sell_back, prices\n",
    "    total_cost = 0\n",
    "    buying_cost = 0\n",
    "    selling_cost = 0\n",
    "\n",
    "    if len(net_grid) != len(electricity_prices):\n",
    "        repeat_factor = len(electricity_prices) // len(net_grid)\n",
    "        electricity_prices = np.mean(electricity_prices.reshape(-1, repeat_factor), axis=1)\n",
    "        print(f'Length of net_grid and electricity_prices are set the same {electricity_prices}')\n",
    "\n",
    "    \n",
    "    for i in range(len(net_grid)):\n",
    "        if net_grid[i] > 0:\n",
    "            buying_cost += net_grid[i] * electricity_prices[i] * timestep_duration\n",
    "        elif net_grid[i] < 0:\n",
    "            selling_cost += net_grid[i] * ratio_sell_back * electricity_prices[i] * timestep_duration #negative I think\n",
    "        else:\n",
    "            pass\n",
    "\n",
    "    total_cost = buying_cost + selling_cost\n",
    "\n",
    "    return total_cost, buying_cost, selling_cost"
   ]
  },
  {
   "cell_type": "code",
   "execution_count": null,
   "metadata": {},
   "outputs": [],
   "source": [
    "def cost_calculator_with_mismatching(net_grid, electricity_prices, ratio_sell_back, timestep_duration):\n",
    "    # input: net_grid, ratio_sell_back, prices\n",
    "    total_cost = 0\n",
    "    buying_cost = 0\n",
    "    selling_cost = 0\n",
    "    \n",
    "    if len(net_grid) != len(electricity_prices):\n",
    "        repeat_factor = len(electricity_prices) // len(net_grid)\n",
    "        electricity_prices = np.mean(electricity_prices.reshape(-1, repeat_factor), axis=1)\n",
    "        print(f'Length of net_grid and electricity_prices are set the same {electricity_prices}')\n",
    "    \n",
    "    buy, sell = zip(*net_grid)\n",
    "    # print(f'buy: {buy}, sell: {sell}')\n",
    "    \n",
    "    buying_cost = np.sum(buy * electricity_prices * timestep_duration)\n",
    "    selling_cost = np.sum(sell * electricity_prices * timestep_duration) * ratio_sell_back\n",
    "    total_cost = buying_cost + selling_cost\n",
    "\n",
    "    return total_cost, buying_cost, selling_cost"
   ]
  },
  {
   "cell_type": "markdown",
   "metadata": {},
   "source": [
    "## 4.5 Benchmarks - need to incorporate the mismatching (later if time)"
   ]
  },
  {
   "cell_type": "markdown",
   "metadata": {},
   "source": [
    "Before problem deployment so still fine in terms of variables, seed in mismatching so fine"
   ]
  },
  {
   "cell_type": "markdown",
   "metadata": {},
   "source": [
    "### No battery"
   ]
  },
  {
   "cell_type": "markdown",
   "metadata": {},
   "source": [
    "Basic difference of actual consumption minus production and multiply by price"
   ]
  },
  {
   "cell_type": "code",
   "execution_count": null,
   "metadata": {},
   "outputs": [],
   "source": [
    "#defined before at the end data aggregation section\n",
    "# electricity_prices_full = electricity_prices\n",
    "# pv_production_full = pv_production\n",
    "# consumption_full = consumption"
   ]
  },
  {
   "cell_type": "code",
   "execution_count": null,
   "metadata": {},
   "outputs": [],
   "source": [
    "# electricity_prices #still fine\n",
    "\n",
    "#problem class init"
   ]
  },
  {
   "cell_type": "code",
   "execution_count": null,
   "metadata": {},
   "outputs": [],
   "source": [
    "if len(consumption_full) != len(pv_production_full) != len(electricity_prices_full):\n",
    "    raise ValueError(\"All numpy arrays must have the same length\")\n",
    "net_grid = consumption_full - pv_production_full #if same length\n",
    "total_no_battery, buy_no_battery, sell_no_battery = cost_calculator_no_mismatching(net_grid, electricity_prices_full, grid_price_ratio, N)\n",
    "print(f'total: {total_no_battery}, buy: {buy_no_battery}, sell: {sell_no_battery}')"
   ]
  },
  {
   "cell_type": "code",
   "execution_count": null,
   "metadata": {},
   "outputs": [],
   "source": [
    "#for mismatching apply apply_mismatch_and_update_soc\n",
    "# but proposed action is always zero. In return keep only the grid evolution for grid computation..."
   ]
  },
  {
   "cell_type": "markdown",
   "metadata": {},
   "source": [
    "### Basic rule based controller"
   ]
  },
  {
   "cell_type": "code",
   "execution_count": null,
   "metadata": {},
   "outputs": [],
   "source": [
    "#mean of electricity_prices\n",
    "mean_price = np.mean(electricity_prices_full)"
   ]
  },
  {
   "cell_type": "code",
   "execution_count": null,
   "metadata": {},
   "outputs": [],
   "source": [
    "# If prices lower than average? for instance charge...\n",
    "# If higher than average discharge.. \n",
    "#always at max rate\n",
    "# keep track of cost and soc"
   ]
  },
  {
   "cell_type": "code",
   "execution_count": null,
   "metadata": {},
   "outputs": [],
   "source": [
    "basic_ruler = OptimizationProblem(soc_start, electricity_prices, pv_production, consumption, N, horizon, max_capacity, max_charge_rate, max_discharge_rate, efficiency_battery, efficiency_inverter, grid_price_ratio, fraction_std_dev, timesteps_for_mismatching, method, options, num_guesses, probability_mismatching, forecast_certainity, mismatching_occurence)\n",
    "#won't use everything every argument\n",
    "\n",
    "total_basic_ruler = basic_ruler.basic_ruler()\n",
    "print(f'total_basic_ruler: {total_basic_ruler}')\n"
   ]
  },
  {
   "cell_type": "markdown",
   "metadata": {},
   "source": [
    "Optimal controller a bit less... but worse with mismatching so need to implement this! Do both but actually like looping problem"
   ]
  },
  {
   "cell_type": "markdown",
   "metadata": {},
   "source": [
    "Charge by night and if excess store\n",
    "Check old project ML6"
   ]
  },
  {
   "cell_type": "markdown",
   "metadata": {},
   "source": [
    "# 5. Problem deployment"
   ]
  },
  {
   "cell_type": "markdown",
   "metadata": {},
   "source": [
    "## 5.1 no loop problem - BUT now only computing the firt horizon... so not all timesteps like before..."
   ]
  },
  {
   "cell_type": "markdown",
   "metadata": {},
   "source": [
    "see visualisation graph 4"
   ]
  },
  {
   "cell_type": "markdown",
   "metadata": {},
   "source": [
    "this does not mean a lot..."
   ]
  },
  {
   "cell_type": "code",
   "execution_count": null,
   "metadata": {},
   "outputs": [],
   "source": [
    "horizon_no_loop = int(24/(3* N)) #this forces 24 hour lookup so you can decrease by a lot, at least 2... Even 10 is a lot\n",
    "no_loop_problem = OptimizationProblem(soc_start, electricity_prices, pv_production, consumption, N, horizon_no_loop, max_capacity, max_charge_rate, max_discharge_rate, efficiency_battery, efficiency_inverter, grid_price_ratio, fraction_std_dev, timesteps_for_mismatching, method, options, num_guesses, probability_mismatching, forecast_certainity, mismatching_occurence)\n",
    "no_loop_list_nfev_guesses = optimize_battery_operation(no_loop_problem, soc_start)\n",
    "\n",
    "# class to be able to plot this\n",
    "# print(\"Not time-corrected actions:\", no_loop_problem.best_fake_actions)\n",
    "# print(\"Best true charging actions:\", no_loop_problem.best_actions)\n",
    "# print(\"Best SOC list:\", no_loop_problem.best_soc) #one extra value\n",
    "# print(\"Best net grid list:\", no_loop_problem.best_grid)\n",
    "\n",
    "# no_loop_max_heuristic, no_loop_min_heuristic, no_loop_avg_heuristic = no_loop_problem.heuristic()\n",
    "# #difference cannot be zero... otherw\n",
    "# ise all heuristics zero\n",
    "# print(f'heuristic max: {no_loop_max_heuristic}, heuristic min: {no_loop_min_heuristic}, heuristic avg: {no_loop_avg_heuristic}')"
   ]
  },
  {
   "cell_type": "code",
   "execution_count": null,
   "metadata": {},
   "outputs": [],
   "source": [
    "# no_loop_list_nfev_guesses"
   ]
  },
  {
   "cell_type": "code",
   "execution_count": null,
   "metadata": {},
   "outputs": [],
   "source": [
    "# options = {'maxiter': 20, 'ftol': 0.1, 'eps': 0.5} #consequtive\n",
    "# method = 'SLSQP'\n",
    "# num_guesses = 10 #if smaller horizon less guesses needed...\n",
    "# #show graph trade-off on an example...\n",
    "\n",
    "# #also horizon and num of mismatching !!... test only extreme cases\n",
    "# # horizon_no_loop = int(24/(3* N)) #so horizon is like 1,2,3,4 part of the day you know in advance... but no sure becasue 15 min and 30 min quite lot still"
   ]
  },
  {
   "cell_type": "code",
   "execution_count": null,
   "metadata": {},
   "outputs": [],
   "source": [
    "# sum(no_loop_list_nfev_guesses) #should be 25"
   ]
  },
  {
   "cell_type": "markdown",
   "metadata": {},
   "source": [
    "Note: charging actions are now updated based on N (duration of timestep)"
   ]
  },
  {
   "cell_type": "code",
   "execution_count": null,
   "metadata": {},
   "outputs": [],
   "source": [
    "cost_no_loop, buy_no_loop, sell_no_loop = cost_calculator_no_mismatching(no_loop_problem.best_grid, electricity_prices_full[:horizon_no_loop], grid_price_ratio, N)"
   ]
  },
  {
   "cell_type": "markdown",
   "metadata": {},
   "source": [
    "This cost does not mean anything!!!"
   ]
  },
  {
   "cell_type": "code",
   "execution_count": null,
   "metadata": {},
   "outputs": [],
   "source": [
    "print(f'total_no_loop: {cost_no_loop}, buy_no_loop: {buy_no_loop}, sell_no_loop: {sell_no_loop}')"
   ]
  },
  {
   "cell_type": "markdown",
   "metadata": {},
   "source": [
    "## 5.2 rolling problem"
   ]
  },
  {
   "cell_type": "markdown",
   "metadata": {},
   "source": [
    "The core idea is to adapt the existing framework to dynamically update and apply the optimal control actions in a sequential manner, reflecting a more realistic operational scenario where decisions are made in real-time based on the latest information."
   ]
  },
  {
   "cell_type": "code",
   "execution_count": null,
   "metadata": {},
   "outputs": [],
   "source": [
    "#forecast variability, no discrimination between prod and cons for the mooment, prices are known\n",
    "#utility function\n",
    "\n",
    "def stochastically_deviate(array, deviation_range_percentage):\n",
    "    \n",
    "    # For each element, calculate a deviation percentage within the allowed range\n",
    "    deviations = np.random.uniform(-deviation_range_percentage, deviation_range_percentage, size=array.shape)\n",
    "    \n",
    "    # Apply the calculated deviations to the original array elements\n",
    "    deviated_array = array + (array * deviations)\n",
    "    \n",
    "    return deviated_array\n",
    "\n",
    "# # Example usage\n",
    "# horizon = 3\n",
    "# original_array = np.array([1, 2, 4])\n",
    "# probability = 0.1  # This means each element in the array can deviate up to 90% of its value\n",
    "\n",
    "# # Apply the stochastic deviation function\n",
    "# deviated_array = stochastically_deviate(original_array, probability)\n",
    "# deviated_array\n"
   ]
  },
  {
   "cell_type": "markdown",
   "metadata": {},
   "source": [
    "Can add some prints in class and need to rerun everything"
   ]
  },
  {
   "cell_type": "code",
   "execution_count": null,
   "metadata": {},
   "outputs": [],
   "source": [
    "mismatching_occurence = 0"
   ]
  },
  {
   "cell_type": "code",
   "execution_count": null,
   "metadata": {},
   "outputs": [],
   "source": [
    "# Initialize the rolling_problem instance with the initial parameters, put it here to able to rerun it\n",
    "rolling_problem = OptimizationProblem(soc_start, electricity_prices, pv_production, consumption, N, horizon, max_capacity, max_charge_rate, max_discharge_rate, efficiency_battery, efficiency_inverter, grid_price_ratio, fraction_std_dev, timesteps_for_mismatching, method, options, num_guesses, probability_mismatching, forecast_certainity, mismatching_occurence)\n",
    "\n",
    "rolling_max_heuristic, rolling_min_heuristic, rolling_avg_heuristic = rolling_problem.heuristic() #do it here otherwise prices, prod and cons will change\n",
    "\n",
    "horizon_copy = rolling_problem.H\n",
    "length_copy = len(rolling_problem.electricity_prices)\n",
    "print(f'length of electricity_prices: {length_copy}, horizon: {horizon_copy}')\n",
    "\n",
    "# Prepare for rolling horizon optimization\n",
    "soc = rolling_problem.soc_initial\n",
    "\n",
    "optimal_controls_without_mismatching = []\n",
    "soc_evolution_without_mismatching = [soc]\n",
    "net_grid_evolution_without_mismatching = []\n",
    "\n",
    "optimal_controls_with_mismatching = []\n",
    "soc_evolution_with_mismatching = [soc]\n",
    "net_grid_evolution_with_mismatching = [] #maybe not needed\n",
    "\n",
    "keep_only_first = True\n",
    "number_iterations_per_time_step = []\n",
    "\n",
    "for t in range(length_copy):\n",
    "# for t in range(3):\n",
    "\n",
    "    # Subset data for the remaining part of the day\n",
    "    #here instead could only recreate data...SIMULATION FOrECASTS variability\n",
    "    print(f'this is scheduling at begin timestep {t}') \n",
    "    value = rolling_problem.N\n",
    "    # print(value)\n",
    "\n",
    "    # rolling_problem.electricity_prices = rolling_problem.electricity_prices[-value:] #not t,1,0 because evoluate with time (below)\n",
    "    # rolling_problem.pv_production = rolling_problem.pv_production[-value:]\n",
    "    # rolling_problem.consumption = rolling_problem.consumption[-value:]\n",
    "\n",
    "    rolling_problem.electricity_prices = electricity_prices_full[t:t+horizon_copy] #not t,1,0 because evoluate with time (below)\n",
    "    rolling_problem.pv_production = pv_production_full[t:t+horizon_copy]\n",
    "    rolling_problem.consumption = consumption_full[t:t+horizon_copy]\n",
    "\n",
    "    if len(rolling_problem.electricity_prices) != horizon_copy: \n",
    "        #append zeros\n",
    "        rolling_problem.electricity_prices = np.append(rolling_problem.electricity_prices, np.zeros(horizon_copy - len(rolling_problem.electricity_prices)))\n",
    "        rolling_problem.pv_production = np.append(rolling_problem.pv_production, np.zeros(horizon_copy - len(rolling_problem.pv_production)))\n",
    "        rolling_problem.consumption = np.append(rolling_problem.consumption, np.zeros(horizon_copy - len(rolling_problem.consumption)))\n",
    "\n",
    "\n",
    "    #problem here is N that evoluates with it but instead should do with horizon variable\n",
    "    if rolling_problem.accuracy_forecast != 1:\n",
    "        deviation = 1 - rolling_problem.accuracy_forecast\n",
    "        rolling_problem.pv_production = stochastically_deviate(rolling_problem.pv_production, deviation)\n",
    "        rolling_problem.consumption = stochastically_deviate(rolling_problem.consumption, deviation)\n",
    "    \n",
    "    '''Here add forecasts variability and horizion (class rolling versus stable data)'''\n",
    "    #---------------here could add forecasts variability\n",
    "\n",
    "    # print(f'elec prices {rolling_problem.electricity_prices}')\n",
    "    # print(f'pv production {rolling_problem.pv_production}')\n",
    "    # print(f'consumption {rolling_problem.consumption}')\n",
    "   \n",
    "\n",
    "    # Optimize battery operation for the remaining part of the day, guesses automatically generated\n",
    "    list_nfev_guesses = optimize_battery_operation(rolling_problem, soc)\n",
    "\n",
    "    number_iterations_per_time_step.append(list_nfev_guesses) #idependent of mismatching\n",
    "\n",
    "    #------- \n",
    "    if keep_only_first: #only for plotting, initalized on True first (above=\n",
    "        list_nfev = list_nfev_guesses\n",
    "        charging_cost_convergence = rolling_problem.evaluations.copy()\n",
    "\n",
    "        keep_only_first = False\n",
    "        # first_schedule = rolling_problem.best_actions\n",
    "        # best_result = best_result.fun\n",
    "        # print(f'first_schedule: {first_schedule}')\n",
    "        # print(f'best_result: {best_result}')\n",
    "    #-------\n",
    "\n",
    "    \"\"\" WITHOUT MISMATCHING\"\"\"\n",
    "    optimal_controls_without_mismatching.append(rolling_problem.best_actions[0])\n",
    "    soc_evolution_without_mismatching.append(rolling_problem.best_soc[1]) \n",
    "    net_grid_evolution_without_mismatching.append(rolling_problem.best_grid[0])\n",
    "    \n",
    "    \"\"\"WITH MISMATCHING\"\"\"\n",
    "\n",
    "    '''Todo different mismatching scenarios ex. not by night'''\n",
    "    real_soc, real_grid, real_actions = rolling_problem.apply_mismatch_and_update_soc(rolling_problem.pv_production[0], rolling_problem.consumption[0], rolling_problem.best_actions[0], soc)\n",
    "\n",
    "    #keep track of evolutions, here lists of lists\n",
    "    optimal_controls_with_mismatching.append(real_actions)\n",
    "    net_grid_evolution_with_mismatching.append(real_grid) #real_grid[0] is always from grid, real_grid[1] is always to grid\n",
    "    soc_evolution_with_mismatching.append(real_soc)\n",
    "    \n",
    "    #update soc\n",
    "    soc = real_soc\n",
    "    #-------------------\n",
    "    # update remaining time\n",
    "    # rolling_problem.N = rolling_problem.N - 1 #not needed anymore\n"
   ]
  },
  {
   "cell_type": "markdown",
   "metadata": {},
   "source": [
    "# 6. Visualisation"
   ]
  },
  {
   "cell_type": "markdown",
   "metadata": {},
   "source": [
    "Problem with my model... I cannot charge my battery and send elec back to net at same time? Jawel"
   ]
  },
  {
   "cell_type": "markdown",
   "metadata": {},
   "source": [
    "I need:\n",
    "- price, consumption, production. \n",
    "- SOC and actions evolution\n",
    "- Cost (taking and savings) - kan achteraf berekend worden if you have net_grid_consumption... MOST interesting\n",
    "\n",
    "\n",
    "How to visualise:\n",
    "- Plotly price, net consumption, consumption, production\n",
    "- commands and state of battery (two axis)"
   ]
  },
  {
   "cell_type": "code",
   "execution_count": null,
   "metadata": {},
   "outputs": [],
   "source": [
    "#add prints\n",
    "print('FINAL RESULTS')\n",
    "print(f'number_iterations_per_time_step: {number_iterations_per_time_step}')\n",
    "print(f'optimal_controls_without_mismatching: {optimal_controls_without_mismatching}')\n",
    "print(f'soc_evolution_without_mismatching: {soc_evolution_without_mismatching}')\n",
    "print(f'net_grid_evolution_without_mismatching: {net_grid_evolution_without_mismatching}')\n",
    "print(f'optimal_controls_with_mismatching: {optimal_controls_with_mismatching}')\n",
    "print(f'soc_evolution_with_mismatching: {soc_evolution_with_mismatching}')\n",
    "print(f'net_grid_evolution_with_mismatching: {net_grid_evolution_with_mismatching}')"
   ]
  },
  {
   "cell_type": "markdown",
   "metadata": {},
   "source": [
    "## 6.1 Preprocessing: adapt timeseries length to soc series"
   ]
  },
  {
   "cell_type": "code",
   "execution_count": null,
   "metadata": {},
   "outputs": [],
   "source": [
    "#create a function to add a time step (copy of the lat element) if len time series is not equal to len SOC\n",
    "def equalize_series_length(time_series, soc_series):\n",
    "    if len(time_series) != len(soc_series):\n",
    "        # Add an extra time step by appending the last value of the time series\n",
    "        time_series = np.append(time_series, time_series[-1])\n",
    "    return time_series"
   ]
  },
  {
   "cell_type": "code",
   "execution_count": null,
   "metadata": {},
   "outputs": [],
   "source": [
    "equ_optimal_controls_without_mismatching = equalize_series_length(optimal_controls_without_mismatching, soc_evolution_without_mismatching)\n",
    "# optimal_controls_with_mismatching = [sum(inner_list) for inner_list in optimal_controls_with_mismatching] #quid how to visualise...\n",
    "# optimal_controls_with_mismatching = equalize_series_length(optimal_controls_with_mismatching, soc_evolution_with_mismatching)\n",
    "\n",
    "# soc_evolution_without_mismatching = equalize_series_length(soc_evolution_without_mismatching, soc_evolution_without_mismatching)\n",
    "# soc_evolution_with_mismatching = equalize_series_length(soc_evolution_with_mismatching, soc_evolution_with_mismatching)\n",
    "\n",
    "equ_net_grid_evolution_without_mismatching = equalize_series_length(net_grid_evolution_without_mismatching, soc_evolution_without_mismatching)\n",
    "\n",
    "if isinstance(net_grid_evolution_with_mismatching[0], list): #perform only once\n",
    "    equ_net_grid_evolution_with_mismatching = [sum(inner_list) for inner_list in net_grid_evolution_with_mismatching]\n",
    "equ_net_grid_evolution_with_mismatching = equalize_series_length(equ_net_grid_evolution_with_mismatching, soc_evolution_with_mismatching)\n",
    "\n",
    "equ_consumption = equalize_series_length(consumption_full, soc_evolution_without_mismatching)\n",
    "equ_pv_production = equalize_series_length(pv_production_full, soc_evolution_without_mismatching)\n",
    "equ_electricity_prices = equalize_series_length(electricity_prices_full, soc_evolution_without_mismatching)\n",
    "\n",
    "#soc series could also be soc_evolution_with_mismatching"
   ]
  },
  {
   "cell_type": "markdown",
   "metadata": {},
   "source": [
    "## Graph 1: consumption, production, prices, and net grid"
   ]
  },
  {
   "cell_type": "code",
   "execution_count": null,
   "metadata": {},
   "outputs": [],
   "source": [
    "# Create a figure\n",
    "fig = go.Figure()\n",
    "\n",
    "# left y-axis\n",
    "fig.add_trace(go.Scatter(x=list(range(len(equ_net_grid_evolution_without_mismatching))), y=equ_net_grid_evolution_without_mismatching, mode='lines', name='Grid Interaction without mismatching', line_shape='hv'))\n",
    "fig.add_trace(go.Scatter(x=list(range(len(equ_net_grid_evolution_with_mismatching))), y=equ_net_grid_evolution_with_mismatching, mode='lines', name='Grid Interaction with mismatching (summed)', line_shape='hv'))\n",
    "\n",
    "fig.add_trace(go.Scatter(x=list(range(len(equ_consumption))), y=equ_consumption, mode='lines', name='Consumption', line_shape='hv'))\n",
    "fig.add_trace(go.Scatter(x=list(range(len(equ_pv_production))), y=equ_pv_production, mode='lines', name='PV Production', line_shape='hv'))\n",
    "#right y-axis\n",
    "fig.add_trace(go.Scatter(x=list(range(len(equ_electricity_prices))), y=equ_electricity_prices, mode='lines', name='Electricity Prices (right)', line_shape='hv', yaxis='y2'))\n",
    "\n",
    "# Update the layout\n",
    "fig.update_layout(title='Consumption, production, prices, and net grid',\n",
    "                xaxis_title='Timesteps',\n",
    "                yaxis=dict(\n",
    "                title='Value during timestep (kWh)'),\n",
    "                yaxis2=dict(\n",
    "                title='Price (Euro/kWh)',\n",
    "                overlaying='y',\n",
    "                side='right'),\n",
    "                yaxis_title='Value during timestep (kWh)',\n",
    "                xaxis=dict(dtick=1),\n",
    "                legend_title='Legend',\n",
    "                legend=dict(\n",
    "                orientation='h',  # horizontal orientation\n",
    "                y=- 0.2,  # Position legend at the top (y < 1)\n",
    "                x=0.1)    # Center the legend horizontally )\n",
    "                )\n",
    "\n",
    "# Show the figure\n",
    "fig.show()"
   ]
  },
  {
   "cell_type": "markdown",
   "metadata": {},
   "source": [
    "Logic if prices high les grid interaction\n",
    "\n",
    "Elec back to grid depends on consumption and production"
   ]
  },
  {
   "cell_type": "markdown",
   "metadata": {},
   "source": [
    "## Graph 2: actions and soc"
   ]
  },
  {
   "cell_type": "markdown",
   "metadata": {},
   "source": [
    "Logic it goes always to the extreme values"
   ]
  },
  {
   "cell_type": "code",
   "execution_count": null,
   "metadata": {},
   "outputs": [],
   "source": [
    "fig = go.Figure()\n",
    "\n",
    "# left y-axis\n",
    "fig.add_trace(go.Scatter(x=list(range(len(equ_optimal_controls_without_mismatching))), y=equ_optimal_controls_without_mismatching, mode='lines', name='Battery actions without mismatching', line_shape='hv'))\n",
    "#right y-axis\n",
    "fig.add_trace(go.Scatter(x=list(range(len(soc_evolution_without_mismatching))), y=soc_evolution_without_mismatching, mode='lines', name='SoC without mismatching', yaxis='y2'))\n",
    "fig.add_trace(go.Scatter(x=list(range(len(soc_evolution_with_mismatching))), y=soc_evolution_with_mismatching, mode='lines', name='SoC with mismatching (', yaxis='y2'))\n",
    "\n",
    "\n",
    "# Create the x and y values for the continuous line\n",
    "x_values_continuous = []\n",
    "y_values_continuous = []\n",
    "\n",
    "for index, data_list in enumerate(optimal_controls_with_mismatching):\n",
    "    x_values_continuous.extend([index + i/(timesteps_for_mismatching -1) for i in range(len(data_list))])\n",
    "    y_values_continuous.extend(data_list)\n",
    "fig.add_trace(go.Scatter(x=x_values_continuous, y=y_values_continuous, mode='lines+markers', name='Battery actions with mismatching'))\n",
    "\n",
    "\n",
    "# Update the layout\n",
    "fig.update_layout(title='Actions and Soc battery',\n",
    "                xaxis_title='Timesteps',\n",
    "                yaxis=dict(\n",
    "                title='Action during timestep (kW)'),\n",
    "                yaxis2=dict(\n",
    "                title='Absolute battery level (kW), could be %',\n",
    "                overlaying='y',\n",
    "                side='right'),\n",
    "                yaxis_title='Value during timestep (kWh)',\n",
    "                xaxis=dict(dtick=1),\n",
    "                legend_title='Legend',\n",
    "                legend=dict(\n",
    "                orientation='h',  # horizontal orientation\n",
    "                y=- 0.2,  # Position legend at the top (y < 1)\n",
    "                x=0.3)    # Center the legend horizontally )\n",
    "                )\n",
    "\n",
    "# Show the figure\n",
    "fig.show()"
   ]
  },
  {
   "cell_type": "markdown",
   "metadata": {},
   "source": [
    "Elbow is the timestep show a mismatch impact"
   ]
  },
  {
   "cell_type": "markdown",
   "metadata": {},
   "source": [
    "## Graph 3: costs"
   ]
  },
  {
   "cell_type": "markdown",
   "metadata": {},
   "source": [
    "Notes: computed before to be sure same length\n",
    "- min heursitic is not really minimal because you call sell back to the grid. Minimal should take into account max price to sell back to the grid...\n",
    "- grid sell back ratio, later maybe timeseries"
   ]
  },
  {
   "cell_type": "code",
   "execution_count": null,
   "metadata": {},
   "outputs": [],
   "source": [
    "#heursitics\n",
    "# rolling_max_heuristic, rolling_min_heuristic, rolling_avg_heuristic = rolling_problem.heuristic()\n",
    "print(f\"Max heuristic: {rolling_max_heuristic:.2f} Euro\")\n",
    "print(f\"Min heuristic: {rolling_min_heuristic:.2f} Euro\")\n",
    "print(f\"Average heuristic: {rolling_avg_heuristic:.2f} Euro\")"
   ]
  },
  {
   "cell_type": "code",
   "execution_count": null,
   "metadata": {},
   "outputs": [],
   "source": [
    "# I changed the cost functions... net grid is not correct anymore, too low values compared to 'difference'\n",
    "total_cost_no_mismatching, buying_cost_no_mismatching, selling_cost_no_mismatching = cost_calculator_no_mismatching(net_grid_evolution_without_mismatching, electricity_prices_full, grid_price_ratio, N)\n",
    "total_cost_with_mismatching, buying_cost_with_mismatching, selling_cost_with_mismatching = cost_calculator_with_mismatching(net_grid_evolution_with_mismatching, electricity_prices_full, grid_price_ratio, N)\n",
    "print(f'total_cost_no_mismatching: {total_cost_no_mismatching}')\n",
    "print(f'total_cost_with_mismatching: {total_cost_with_mismatching}')"
   ]
  },
  {
   "cell_type": "code",
   "execution_count": null,
   "metadata": {},
   "outputs": [],
   "source": [
    "#make bar chart for total cost, buying cost, selling cost, max heuristic, min heuristic, avg heuristic using plotly\n",
    "# Create bar chart\n",
    "fig = go.Figure(data=[\n",
    "    go.Bar(name='Total Cost no mismatching', x=['no_mismatch'], y=[total_cost_no_mismatching]),\n",
    "    go.Bar(name='Buying Cost no mismatching', x=['no_mismatch'], y=[buying_cost_no_mismatching]),\n",
    "    go.Bar(name='Selling savings no mismatching', x=['no_mismatch'], y=[selling_cost_no_mismatching]),\n",
    "\n",
    "    go.Bar(name='Total Cost with mismatching', x=['mismatch'], y=[total_cost_with_mismatching]),\n",
    "    go.Bar(name='Buying Cost with mismatching', x=['mismatch'], y=[buying_cost_with_mismatching]),\n",
    "    go.Bar(name='Selling savings with mismatching', x=['mismatch'], y=[selling_cost_with_mismatching]),\n",
    "\n",
    "    # go.Bar(name='random', x=['random'], y=[total_random_cost]),\n",
    "\n",
    "    go.Bar(name='Max Heuristic', x=['heuristics'], y=[rolling_max_heuristic]),\n",
    "    go.Bar(name='Min Heuristic', x=['heuristics'], y=[rolling_min_heuristic]),\n",
    "    go.Bar(name='Avg Heuristic', x=['heuristics'], y=[rolling_avg_heuristic]),\n",
    "])\n",
    "\n",
    "# Update the layout\n",
    "fig.update_layout(width=750, height=500,\n",
    "    title='Costs and Heuristics Overview',\n",
    "    xaxis_title='Category',\n",
    "    yaxis_title='Value (Euro)',\n",
    "    barmode='group',\n",
    "    legend_title='Legend',\n",
    "    bargap=0.05,  # gap between bars of adjacent location coordinates\n",
    ")\n",
    "\n",
    "# Show the figure\n",
    "fig.show()\n",
    "#make figure smaller\n"
   ]
  },
  {
   "cell_type": "markdown",
   "metadata": {},
   "source": [
    "## Graph 4: optimisation process how convergence to solution"
   ]
  },
  {
   "cell_type": "markdown",
   "metadata": {},
   "source": [
    "### 4.1 First timestep scheduling"
   ]
  },
  {
   "cell_type": "code",
   "execution_count": null,
   "metadata": {},
   "outputs": [],
   "source": [
    "def split_into_sublists(flat_list, sublist_lengths):\n",
    "    sublists = {}\n",
    "    start = 0\n",
    "    for i, length in enumerate(sublist_lengths, start=1):\n",
    "        end = start + length\n",
    "        sublists[f'guess_{i}'] = flat_list[start:end]\n",
    "        start = end\n",
    "    return sublists #dictionary"
   ]
  },
  {
   "cell_type": "code",
   "execution_count": null,
   "metadata": {},
   "outputs": [],
   "source": [
    "original_sublists = split_into_sublists(no_loop_problem.evaluations, no_loop_list_nfev_guesses) #two ouput from optimization, note list_nfev_guesses could be also in class\n",
    "# print(original_sublists['guess_20'])"
   ]
  },
  {
   "cell_type": "code",
   "execution_count": null,
   "metadata": {},
   "outputs": [],
   "source": [
    "# Initialize the figure outside the loop\n",
    "fig = go.Figure()\n",
    "\n",
    "# Assuming original_sublists and N are defined\n",
    "for i in range(1, num_guesses+1 ):\n",
    "    fig.add_trace(go.Scatter(\n",
    "        x=list(range(len(original_sublists[f'guess_{i}']))), \n",
    "        y=original_sublists[f'guess_{i}'], \n",
    "        mode='lines', \n",
    "        name=f'Guess {i}'\n",
    "    ))\n",
    "\n",
    "# Update layout once after all traces have been added\n",
    "fig.update_layout(\n",
    "    title='Visualization of evolution initial guesses',\n",
    "    xaxis_title='Iterations',\n",
    "    yaxis_title='Cost obtained by proposed actions (Euro)',\n",
    ")\n",
    "\n",
    "# Show the figure once after adding all traces\n",
    "fig.show()\n"
   ]
  },
  {
   "cell_type": "markdown",
   "metadata": {},
   "source": [
    "Note: MPC recomputing per timestep not a lot better (37.1) compared to scheduling everything at timestep 1. This is because no forecast variability for the moment."
   ]
  },
  {
   "cell_type": "markdown",
   "metadata": {},
   "source": [
    "### 4.2 Number of iterations per timestep"
   ]
  },
  {
   "cell_type": "code",
   "execution_count": null,
   "metadata": {},
   "outputs": [],
   "source": [
    "nmber_iterations = [sum(inner_list) for inner_list in number_iterations_per_time_step]\n",
    "\n",
    "colors = px.colors.qualitative.Set3  # Using Plotly's built-in qualitative color sets\n",
    "# Ensure we have enough colors, repeat the list if necessary\n",
    "colors *= len(nmber_iterations) // len(colors) + 1\n",
    "# Create bar chart\n",
    "fig = go.Figure(data=[\n",
    "    go.Bar(name='Number of iterations', x=list(range(len(nmber_iterations))), y=nmber_iterations, marker_color=colors[:len(nmber_iterations)], width = 0.4),\n",
    "])\n",
    "\n",
    "fig.update_layout(\n",
    "    title='Number of iterations per timestep',\n",
    "    xaxis_title='Timestep',\n",
    "    yaxis_title='Number of iterations',\n",
    "    bargap=0.15  # Adjust the gap between bars, you can adjust as needed\n",
    ")\n",
    "\n",
    "fig.show()"
   ]
  },
  {
   "cell_type": "markdown",
   "metadata": {},
   "source": [
    "## Graph 5: set-up overview"
   ]
  },
  {
   "cell_type": "code",
   "execution_count": null,
   "metadata": {},
   "outputs": [],
   "source": [
    "# N = 24 #number of time steps in one day\n",
    "# max_capacity = 10  # kWh\n",
    "# max_charge_rate = 5  # kWh per hour (kW)\n",
    "# max_discharge_rate = -5  \n",
    "# efficiency_inverter = 1\n",
    "# efficiency_battery = 1\n",
    "# # Stored elec in battery and directly consumed(c) PV go through inverter\n",
    "# # PV production (p) to battery no need to go through inverter\n",
    "\n",
    "\n",
    "# # Sample data\n",
    "# electricity_prices = np.random.uniform(0.1, 0.6, N)  # Euro per kWh\n",
    "# pv_production = np.random.uniform(0, 5, N) # PV production (kWh)\n",
    "# consumption = np.random.uniform(0, 20, N)  # Household consumption (kWh)\n",
    "\n",
    "# # Initial state\n",
    "# soc_start = 5  # not a prcenage, but a kWh value\n",
    "# grid_price = 1 #later also time series\n",
    "\n",
    "# #for guesses\n",
    "# st_dev_fraction = 8\n",
    "# num_guesses = 10 #later visualise how it influences the result\n",
    "# # for MPC\n",
    "# options = {'maxiter': 1000, 'ftol': 1e-6}\n",
    "# method = 'SLSQP'\n",
    "\n",
    "\n",
    "# #for loop or not and end condition (calculate on avg what is best to have, probably empty battery... because load by night so nothing to change)\n",
    "# #later automation for mutiple days\n",
    "# #forecast variability"
   ]
  }
 ],
 "metadata": {
  "kernelspec": {
   "display_name": "ml6",
   "language": "python",
   "name": "python3"
  },
  "language_info": {
   "codemirror_mode": {
    "name": "ipython",
    "version": 3
   },
   "file_extension": ".py",
   "mimetype": "text/x-python",
   "name": "python",
   "nbconvert_exporter": "python",
   "pygments_lexer": "ipython3",
   "version": "3.8.18"
  }
 },
 "nbformat": 4,
 "nbformat_minor": 2
}
